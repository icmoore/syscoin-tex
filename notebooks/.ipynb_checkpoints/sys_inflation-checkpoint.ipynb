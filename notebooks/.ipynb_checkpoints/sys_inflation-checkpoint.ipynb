{
 "cells": [
  {
   "cell_type": "markdown",
   "metadata": {},
   "source": [
    "https://math.stackexchange.com/questions/1792539/how-do-we-convert-annual-growth-rate-to-daily-growth-rate\n",
    "https://stackoverflow.com/questions/13556703/array-elementwise-operations\n",
    "https://matplotlib.org/stable/tutorials/colors/colormaps.html\n",
    "https://stackoverflow.com/questions/17559408/confidence-and-prediction-intervals-with-statsmodels\n",
    "https://syscoin.org/syscoin3_whitepaper_summary.pdf\n",
    "https://messari.io/asset/syscoin/chart/sply-circ"
   ]
  },
  {
   "cell_type": "code",
   "execution_count": 1,
   "metadata": {},
   "outputs": [],
   "source": [
    "import datetime\n",
    "import numpy as np\n",
    "import pandas as pd\n",
    "import matplotlib.pyplot as plt\n",
    "from scipy.optimize import fmin, minimize"
   ]
  },
  {
   "cell_type": "code",
   "execution_count": 2,
   "metadata": {},
   "outputs": [],
   "source": [
    "tx_fee = pd.read_csv('../resources/ETHTransactionFee.csv')\n",
    "tx_fee.columns = ['date', 'timestamp','tx_fee']\n",
    "tx_fee = tx_fee.assign(tx_fee = [float(tx)/1e18 for tx in tx_fee['tx_fee'].values])\n",
    "date_split = [t.rstrip().split('/') for t in tx_fee['date'].values]\n",
    "date_times = [datetime.date(int(t[2]), int(t[0]), int(t[1])) for t in date_split]\n",
    "tx_fee = tx_fee.assign(date_time = date_times)"
   ]
  },
  {
   "cell_type": "code",
   "execution_count": 3,
   "metadata": {},
   "outputs": [],
   "source": [
    "INITIAL_SYS_SUPPLY = 614730694.63 # June 28th, 2021"
   ]
  },
  {
   "cell_type": "code",
   "execution_count": 4,
   "metadata": {},
   "outputs": [
    {
     "data": {
      "text/plain": [
       "date          11/7/2015\n",
       "timestamp    1446854400\n",
       "tx_fee          32.0799\n",
       "date_time    2015-11-07\n",
       "Name: 100, dtype: object"
      ]
     },
     "execution_count": 4,
     "metadata": {},
     "output_type": "execute_result"
    }
   ],
   "source": [
    "tx_fee.loc[100]"
   ]
  },
  {
   "cell_type": "code",
   "execution_count": 5,
   "metadata": {},
   "outputs": [],
   "source": [
    "INITIAL_SYS_SUPPLY = 614730694.63 # June 28th, 2021\n",
    "MAX_COINS = 888000000\n",
    "DAYS_IN_YEAR = 365\n",
    "ANNUAL_INFLATION = 0.05\n",
    "DAILY_PERCENTAGE_GRWTH = (1+ANNUAL_INFLATION)**(1/DAYS_IN_YEAR)\n",
    "LAST_DATE = '2021-06-28 00:00:00'\n",
    "START_DATE = '2015-11-07 00:00:00'"
   ]
  },
  {
   "cell_type": "code",
   "execution_count": 6,
   "metadata": {},
   "outputs": [],
   "source": [
    "def supplyNYears(A,t):\n",
    "    return A*(1.05)**t\n",
    "\n",
    "def supplyNDays(A,t):\n",
    "    daysInYr = 366 if isLeapYear(getDate(t, strt_date = LAST_DATE).year) else 365\n",
    "    return A*(1.05)**(t/365)"
   ]
  },
  {
   "cell_type": "code",
   "execution_count": 7,
   "metadata": {},
   "outputs": [],
   "source": [
    "def isLeapYear(yr):\n",
    "    return bool((yr-2000) % 4 == 0) \n",
    "\n",
    "def getDate(t, strt_date = START_DATE):\n",
    "    return datetime.datetime.strptime(strt_date, \"%Y-%m-%d %H:%M:%S\") + datetime.timedelta(days=t) "
   ]
  },
  {
   "cell_type": "code",
   "execution_count": 34,
   "metadata": {},
   "outputs": [],
   "source": [
    "N = 365\n",
    "STRT_DATE = '2022-01-01 00:00:00'\n",
    "STRT_SUPPLY = 554103161\n",
    "STRT_YR = 2019\n",
    "DEFLATION = 0.05\n",
    "INITIAL_BLK_REWARD = 151767*12/(365*24*60) + 7.81 + 23.45\n",
    "NUM_DAILY_BLOCKS = 24*60\n",
    "\n",
    "def gen_block_rewards(strt_date = STRT_DATE,\n",
    "                      strt_supply = STRT_SUPPLY,\n",
    "                      ini_blk_reward = INITIAL_BLK_REWARD,\n",
    "                      n = N,\n",
    "                      deflation = DEFLATION,\n",
    "                      num_daily_blocks = NUM_DAILY_BLOCKS,\n",
    "                      nevm_rewards = None,\n",
    "                      pow_rewards = None):\n",
    "    \n",
    "    STRT_YR = datetime.datetime.strptime(strt_date, \"%Y-%m-%d %H:%M:%S\").year\n",
    "    blk_rewards = [ini_blk_reward]\n",
    "    dates = np.array([getDate(t, strt_date = strt_date) for t in range(0,n)])\n",
    "    da = np.array([dates.flatten()[t].day for t in range(0,n)])\n",
    "    mo = np.array([dates.flatten()[t].month for t in range(0,n)])\n",
    "    yr = np.array([dates.flatten()[t].year for t in range(0,n)])\n",
    "\n",
    "    rewards = np.repeat(0.0,n)\n",
    "    governance_rewards = np.repeat(0,n)\n",
    "    rewards[0] = blk_rewards[0]\n",
    "\n",
    "    for k in range(1, n):\n",
    "        diff_yr = yr[k] - yr[k-1]\n",
    "        diff_mo = mo[k] - mo[k-1]\n",
    "        rewards[k] = blk_rewards[len(blk_rewards)-1]\n",
    "        \n",
    "        if diff_mo == 1:\n",
    "            blk_reward = blk_rewards[len(blk_rewards)-1]\n",
    "            governance_rewards[k] = 0.1*blk_reward*365*24*60/12\n",
    "        \n",
    "        if diff_yr == 1:\n",
    "            blk_reward = blk_rewards[len(blk_rewards)-1]\n",
    "            blk_rewards.append(blk_reward - deflation*blk_reward)\n",
    "\n",
    "    daily_rewards = rewards*num_daily_blocks       \n",
    "            \n",
    "    df = pd.DataFrame({'dates':dates.flatten(),\n",
    "                       'yr':yr.flatten(),\n",
    "                       'mo':mo.flatten(),\n",
    "                       'da':da.flatten(),\n",
    "                       'blk_reward':rewards,\n",
    "                       'daily_rewards':daily_rewards,\n",
    "                       'supply':strt_supply+np.cumsum(daily_rewards)})\n",
    "    \n",
    "    if (nevm_rewards != None): \n",
    "        df.insert(loc=5, column='nevm_rewards', value=nevm_rewards)\n",
    "\n",
    "    if (pow_rewards != None): \n",
    "        df.insert(loc=6, column='pow_rewards', value=pow_rewards)  \n",
    "        \n",
    "    if (nevm_rewards != None) & (pow_rewards != None):\n",
    "        rewards = rewards + np.repeat(nevm_rewards,n) + np.repeat(pow_rewards,n)\n",
    "        daily_rewards = rewards*num_daily_blocks \n",
    "        df = df.assign(daily_rewards=daily_rewards)\n",
    "        \n",
    "    return df"
   ]
  },
  {
   "cell_type": "code",
   "execution_count": 9,
   "metadata": {},
   "outputs": [
    {
     "data": {
      "text/plain": [
       "747209001.3896676"
      ]
     },
     "execution_count": 9,
     "metadata": {},
     "output_type": "execute_result"
    }
   ],
   "source": [
    "N = 365*4 + 1\n",
    "\n",
    "supply = [INITIAL_SYS_SUPPLY]\n",
    "for t in range(1,N): supply.append(supply[-1]*DAILY_PERCENTAGE_GRWTH)\n",
    "supply = np.array(supply)\n",
    "dates = np.array([getDate(t) for t in range(0,N)])\n",
    "\n",
    "df = pd.DataFrame({'dates':dates.flatten(), 'inflate':supply.flatten()})\n",
    "df['inflate'].values[-1]"
   ]
  },
  {
   "cell_type": "code",
   "execution_count": 10,
   "metadata": {},
   "outputs": [],
   "source": [
    "# Jun 03 2019 (start)\n",
    "# supply = 554103161\n",
    "\n",
    "# Aug 23, 2021 (end) \n",
    "# supply 617746652"
   ]
  },
  {
   "cell_type": "code",
   "execution_count": 11,
   "metadata": {},
   "outputs": [],
   "source": [
    "INDEX = 812\n",
    "SUPPLY_AT_INDEX = 617746652\n",
    "\n",
    "def objective_function(alpha):\n",
    "    \n",
    "    pow_df = gen_block_rewards(strt_date = STRT_DATE, \n",
    "                           strt_supply = STRT_SUPPLY, \n",
    "                           ini_blk_reward = alpha*38.5,\n",
    "                           n = N)\n",
    "        \n",
    "    #print(pow_df['supply'].iloc[INDEX])    \n",
    "        \n",
    "    return abs(SUPPLY_AT_INDEX - pow_df['supply'].iloc[INDEX])"
   ]
  },
  {
   "cell_type": "code",
   "execution_count": 36,
   "metadata": {},
   "outputs": [
    {
     "ename": "IndexError",
     "evalue": "single positional indexer is out-of-bounds",
     "output_type": "error",
     "traceback": [
      "\u001b[0;31m---------------------------------------------------------------------------\u001b[0m",
      "\u001b[0;31mIndexError\u001b[0m                                Traceback (most recent call last)",
      "\u001b[0;32m<ipython-input-36-de3c4da5e63b>\u001b[0m in \u001b[0;36m<module>\u001b[0;34m\u001b[0m\n\u001b[1;32m      1\u001b[0m \u001b[0mALPHA_INIT\u001b[0m \u001b[0;34m=\u001b[0m \u001b[0;36m1.5\u001b[0m\u001b[0;34m\u001b[0m\u001b[0;34m\u001b[0m\u001b[0m\n\u001b[0;32m----> 2\u001b[0;31m \u001b[0mresult\u001b[0m \u001b[0;34m=\u001b[0m \u001b[0mminimize\u001b[0m\u001b[0;34m(\u001b[0m\u001b[0mobjective_function\u001b[0m\u001b[0;34m,\u001b[0m \u001b[0mALPHA_INIT\u001b[0m\u001b[0;34m,\u001b[0m \u001b[0mmethod\u001b[0m\u001b[0;34m=\u001b[0m\u001b[0;34m'BFGS'\u001b[0m\u001b[0;34m,\u001b[0m \u001b[0moptions\u001b[0m\u001b[0;34m=\u001b[0m\u001b[0;34m{\u001b[0m\u001b[0;34m'maxiter'\u001b[0m\u001b[0;34m:\u001b[0m \u001b[0;36m500\u001b[0m\u001b[0;34m}\u001b[0m\u001b[0;34m)\u001b[0m\u001b[0;34m\u001b[0m\u001b[0;34m\u001b[0m\u001b[0m\n\u001b[0m\u001b[1;32m      3\u001b[0m \u001b[0malpha_hat\u001b[0m \u001b[0;34m=\u001b[0m \u001b[0mresult\u001b[0m\u001b[0;34m.\u001b[0m\u001b[0mx\u001b[0m\u001b[0;34m[\u001b[0m\u001b[0;36m0\u001b[0m\u001b[0;34m]\u001b[0m\u001b[0;34m\u001b[0m\u001b[0;34m\u001b[0m\u001b[0m\n\u001b[1;32m      4\u001b[0m \u001b[0malpha_hat\u001b[0m\u001b[0;34m\u001b[0m\u001b[0;34m\u001b[0m\u001b[0m\n",
      "\u001b[0;32m~/anaconda3/lib/python3.8/site-packages/scipy/optimize/_minimize.py\u001b[0m in \u001b[0;36mminimize\u001b[0;34m(fun, x0, args, method, jac, hess, hessp, bounds, constraints, tol, callback, options)\u001b[0m\n\u001b[1;32m    610\u001b[0m         \u001b[0;32mreturn\u001b[0m \u001b[0m_minimize_cg\u001b[0m\u001b[0;34m(\u001b[0m\u001b[0mfun\u001b[0m\u001b[0;34m,\u001b[0m \u001b[0mx0\u001b[0m\u001b[0;34m,\u001b[0m \u001b[0margs\u001b[0m\u001b[0;34m,\u001b[0m \u001b[0mjac\u001b[0m\u001b[0;34m,\u001b[0m \u001b[0mcallback\u001b[0m\u001b[0;34m,\u001b[0m \u001b[0;34m**\u001b[0m\u001b[0moptions\u001b[0m\u001b[0;34m)\u001b[0m\u001b[0;34m\u001b[0m\u001b[0;34m\u001b[0m\u001b[0m\n\u001b[1;32m    611\u001b[0m     \u001b[0;32melif\u001b[0m \u001b[0mmeth\u001b[0m \u001b[0;34m==\u001b[0m \u001b[0;34m'bfgs'\u001b[0m\u001b[0;34m:\u001b[0m\u001b[0;34m\u001b[0m\u001b[0;34m\u001b[0m\u001b[0m\n\u001b[0;32m--> 612\u001b[0;31m         \u001b[0;32mreturn\u001b[0m \u001b[0m_minimize_bfgs\u001b[0m\u001b[0;34m(\u001b[0m\u001b[0mfun\u001b[0m\u001b[0;34m,\u001b[0m \u001b[0mx0\u001b[0m\u001b[0;34m,\u001b[0m \u001b[0margs\u001b[0m\u001b[0;34m,\u001b[0m \u001b[0mjac\u001b[0m\u001b[0;34m,\u001b[0m \u001b[0mcallback\u001b[0m\u001b[0;34m,\u001b[0m \u001b[0;34m**\u001b[0m\u001b[0moptions\u001b[0m\u001b[0;34m)\u001b[0m\u001b[0;34m\u001b[0m\u001b[0;34m\u001b[0m\u001b[0m\n\u001b[0m\u001b[1;32m    613\u001b[0m     \u001b[0;32melif\u001b[0m \u001b[0mmeth\u001b[0m \u001b[0;34m==\u001b[0m \u001b[0;34m'newton-cg'\u001b[0m\u001b[0;34m:\u001b[0m\u001b[0;34m\u001b[0m\u001b[0;34m\u001b[0m\u001b[0m\n\u001b[1;32m    614\u001b[0m         return _minimize_newtoncg(fun, x0, args, jac, hess, hessp, callback,\n",
      "\u001b[0;32m~/anaconda3/lib/python3.8/site-packages/scipy/optimize/optimize.py\u001b[0m in \u001b[0;36m_minimize_bfgs\u001b[0;34m(fun, x0, args, jac, callback, gtol, norm, eps, maxiter, disp, return_all, finite_diff_rel_step, **unknown_options)\u001b[0m\n\u001b[1;32m   1099\u001b[0m         \u001b[0mmaxiter\u001b[0m \u001b[0;34m=\u001b[0m \u001b[0mlen\u001b[0m\u001b[0;34m(\u001b[0m\u001b[0mx0\u001b[0m\u001b[0;34m)\u001b[0m \u001b[0;34m*\u001b[0m \u001b[0;36m200\u001b[0m\u001b[0;34m\u001b[0m\u001b[0;34m\u001b[0m\u001b[0m\n\u001b[1;32m   1100\u001b[0m \u001b[0;34m\u001b[0m\u001b[0m\n\u001b[0;32m-> 1101\u001b[0;31m     sf = _prepare_scalar_function(fun, x0, jac, args=args, epsilon=eps,\n\u001b[0m\u001b[1;32m   1102\u001b[0m                                   finite_diff_rel_step=finite_diff_rel_step)\n\u001b[1;32m   1103\u001b[0m \u001b[0;34m\u001b[0m\u001b[0m\n",
      "\u001b[0;32m~/anaconda3/lib/python3.8/site-packages/scipy/optimize/optimize.py\u001b[0m in \u001b[0;36m_prepare_scalar_function\u001b[0;34m(fun, x0, jac, args, bounds, epsilon, finite_diff_rel_step, hess)\u001b[0m\n\u001b[1;32m    259\u001b[0m     \u001b[0;31m# ScalarFunction caches. Reuse of fun(x) during grad\u001b[0m\u001b[0;34m\u001b[0m\u001b[0;34m\u001b[0m\u001b[0;34m\u001b[0m\u001b[0m\n\u001b[1;32m    260\u001b[0m     \u001b[0;31m# calculation reduces overall function evaluations.\u001b[0m\u001b[0;34m\u001b[0m\u001b[0;34m\u001b[0m\u001b[0;34m\u001b[0m\u001b[0m\n\u001b[0;32m--> 261\u001b[0;31m     sf = ScalarFunction(fun, x0, args, grad, hess,\n\u001b[0m\u001b[1;32m    262\u001b[0m                         finite_diff_rel_step, bounds, epsilon=epsilon)\n\u001b[1;32m    263\u001b[0m \u001b[0;34m\u001b[0m\u001b[0m\n",
      "\u001b[0;32m~/anaconda3/lib/python3.8/site-packages/scipy/optimize/_differentiable_functions.py\u001b[0m in \u001b[0;36m__init__\u001b[0;34m(self, fun, x0, args, grad, hess, finite_diff_rel_step, finite_diff_bounds, epsilon)\u001b[0m\n\u001b[1;32m     74\u001b[0m \u001b[0;34m\u001b[0m\u001b[0m\n\u001b[1;32m     75\u001b[0m         \u001b[0mself\u001b[0m\u001b[0;34m.\u001b[0m\u001b[0m_update_fun_impl\u001b[0m \u001b[0;34m=\u001b[0m \u001b[0mupdate_fun\u001b[0m\u001b[0;34m\u001b[0m\u001b[0;34m\u001b[0m\u001b[0m\n\u001b[0;32m---> 76\u001b[0;31m         \u001b[0mself\u001b[0m\u001b[0;34m.\u001b[0m\u001b[0m_update_fun\u001b[0m\u001b[0;34m(\u001b[0m\u001b[0;34m)\u001b[0m\u001b[0;34m\u001b[0m\u001b[0;34m\u001b[0m\u001b[0m\n\u001b[0m\u001b[1;32m     77\u001b[0m \u001b[0;34m\u001b[0m\u001b[0m\n\u001b[1;32m     78\u001b[0m         \u001b[0;31m# Gradient evaluation\u001b[0m\u001b[0;34m\u001b[0m\u001b[0;34m\u001b[0m\u001b[0;34m\u001b[0m\u001b[0m\n",
      "\u001b[0;32m~/anaconda3/lib/python3.8/site-packages/scipy/optimize/_differentiable_functions.py\u001b[0m in \u001b[0;36m_update_fun\u001b[0;34m(self)\u001b[0m\n\u001b[1;32m    164\u001b[0m     \u001b[0;32mdef\u001b[0m \u001b[0m_update_fun\u001b[0m\u001b[0;34m(\u001b[0m\u001b[0mself\u001b[0m\u001b[0;34m)\u001b[0m\u001b[0;34m:\u001b[0m\u001b[0;34m\u001b[0m\u001b[0;34m\u001b[0m\u001b[0m\n\u001b[1;32m    165\u001b[0m         \u001b[0;32mif\u001b[0m \u001b[0;32mnot\u001b[0m \u001b[0mself\u001b[0m\u001b[0;34m.\u001b[0m\u001b[0mf_updated\u001b[0m\u001b[0;34m:\u001b[0m\u001b[0;34m\u001b[0m\u001b[0;34m\u001b[0m\u001b[0m\n\u001b[0;32m--> 166\u001b[0;31m             \u001b[0mself\u001b[0m\u001b[0;34m.\u001b[0m\u001b[0m_update_fun_impl\u001b[0m\u001b[0;34m(\u001b[0m\u001b[0;34m)\u001b[0m\u001b[0;34m\u001b[0m\u001b[0;34m\u001b[0m\u001b[0m\n\u001b[0m\u001b[1;32m    167\u001b[0m             \u001b[0mself\u001b[0m\u001b[0;34m.\u001b[0m\u001b[0mf_updated\u001b[0m \u001b[0;34m=\u001b[0m \u001b[0;32mTrue\u001b[0m\u001b[0;34m\u001b[0m\u001b[0;34m\u001b[0m\u001b[0m\n\u001b[1;32m    168\u001b[0m \u001b[0;34m\u001b[0m\u001b[0m\n",
      "\u001b[0;32m~/anaconda3/lib/python3.8/site-packages/scipy/optimize/_differentiable_functions.py\u001b[0m in \u001b[0;36mupdate_fun\u001b[0;34m()\u001b[0m\n\u001b[1;32m     71\u001b[0m \u001b[0;34m\u001b[0m\u001b[0m\n\u001b[1;32m     72\u001b[0m         \u001b[0;32mdef\u001b[0m \u001b[0mupdate_fun\u001b[0m\u001b[0;34m(\u001b[0m\u001b[0;34m)\u001b[0m\u001b[0;34m:\u001b[0m\u001b[0;34m\u001b[0m\u001b[0;34m\u001b[0m\u001b[0m\n\u001b[0;32m---> 73\u001b[0;31m             \u001b[0mself\u001b[0m\u001b[0;34m.\u001b[0m\u001b[0mf\u001b[0m \u001b[0;34m=\u001b[0m \u001b[0mfun_wrapped\u001b[0m\u001b[0;34m(\u001b[0m\u001b[0mself\u001b[0m\u001b[0;34m.\u001b[0m\u001b[0mx\u001b[0m\u001b[0;34m)\u001b[0m\u001b[0;34m\u001b[0m\u001b[0;34m\u001b[0m\u001b[0m\n\u001b[0m\u001b[1;32m     74\u001b[0m \u001b[0;34m\u001b[0m\u001b[0m\n\u001b[1;32m     75\u001b[0m         \u001b[0mself\u001b[0m\u001b[0;34m.\u001b[0m\u001b[0m_update_fun_impl\u001b[0m \u001b[0;34m=\u001b[0m \u001b[0mupdate_fun\u001b[0m\u001b[0;34m\u001b[0m\u001b[0;34m\u001b[0m\u001b[0m\n",
      "\u001b[0;32m~/anaconda3/lib/python3.8/site-packages/scipy/optimize/_differentiable_functions.py\u001b[0m in \u001b[0;36mfun_wrapped\u001b[0;34m(x)\u001b[0m\n\u001b[1;32m     68\u001b[0m         \u001b[0;32mdef\u001b[0m \u001b[0mfun_wrapped\u001b[0m\u001b[0;34m(\u001b[0m\u001b[0mx\u001b[0m\u001b[0;34m)\u001b[0m\u001b[0;34m:\u001b[0m\u001b[0;34m\u001b[0m\u001b[0;34m\u001b[0m\u001b[0m\n\u001b[1;32m     69\u001b[0m             \u001b[0mself\u001b[0m\u001b[0;34m.\u001b[0m\u001b[0mnfev\u001b[0m \u001b[0;34m+=\u001b[0m \u001b[0;36m1\u001b[0m\u001b[0;34m\u001b[0m\u001b[0;34m\u001b[0m\u001b[0m\n\u001b[0;32m---> 70\u001b[0;31m             \u001b[0;32mreturn\u001b[0m \u001b[0mfun\u001b[0m\u001b[0;34m(\u001b[0m\u001b[0mx\u001b[0m\u001b[0;34m,\u001b[0m \u001b[0;34m*\u001b[0m\u001b[0margs\u001b[0m\u001b[0;34m)\u001b[0m\u001b[0;34m\u001b[0m\u001b[0;34m\u001b[0m\u001b[0m\n\u001b[0m\u001b[1;32m     71\u001b[0m \u001b[0;34m\u001b[0m\u001b[0m\n\u001b[1;32m     72\u001b[0m         \u001b[0;32mdef\u001b[0m \u001b[0mupdate_fun\u001b[0m\u001b[0;34m(\u001b[0m\u001b[0;34m)\u001b[0m\u001b[0;34m:\u001b[0m\u001b[0;34m\u001b[0m\u001b[0;34m\u001b[0m\u001b[0m\n",
      "\u001b[0;32m<ipython-input-11-b8a8ef25566f>\u001b[0m in \u001b[0;36mobjective_function\u001b[0;34m(alpha)\u001b[0m\n\u001b[1;32m     11\u001b[0m     \u001b[0;31m#print(pow_df['supply'].iloc[INDEX])\u001b[0m\u001b[0;34m\u001b[0m\u001b[0;34m\u001b[0m\u001b[0;34m\u001b[0m\u001b[0m\n\u001b[1;32m     12\u001b[0m \u001b[0;34m\u001b[0m\u001b[0m\n\u001b[0;32m---> 13\u001b[0;31m     \u001b[0;32mreturn\u001b[0m \u001b[0mabs\u001b[0m\u001b[0;34m(\u001b[0m\u001b[0mSUPPLY_AT_INDEX\u001b[0m \u001b[0;34m-\u001b[0m \u001b[0mpow_df\u001b[0m\u001b[0;34m[\u001b[0m\u001b[0;34m'supply'\u001b[0m\u001b[0;34m]\u001b[0m\u001b[0;34m.\u001b[0m\u001b[0miloc\u001b[0m\u001b[0;34m[\u001b[0m\u001b[0mINDEX\u001b[0m\u001b[0;34m]\u001b[0m\u001b[0;34m)\u001b[0m\u001b[0;34m\u001b[0m\u001b[0;34m\u001b[0m\u001b[0m\n\u001b[0m",
      "\u001b[0;32m~/anaconda3/lib/python3.8/site-packages/pandas/core/indexing.py\u001b[0m in \u001b[0;36m__getitem__\u001b[0;34m(self, key)\u001b[0m\n\u001b[1;32m    877\u001b[0m \u001b[0;34m\u001b[0m\u001b[0m\n\u001b[1;32m    878\u001b[0m             \u001b[0mmaybe_callable\u001b[0m \u001b[0;34m=\u001b[0m \u001b[0mcom\u001b[0m\u001b[0;34m.\u001b[0m\u001b[0mapply_if_callable\u001b[0m\u001b[0;34m(\u001b[0m\u001b[0mkey\u001b[0m\u001b[0;34m,\u001b[0m \u001b[0mself\u001b[0m\u001b[0;34m.\u001b[0m\u001b[0mobj\u001b[0m\u001b[0;34m)\u001b[0m\u001b[0;34m\u001b[0m\u001b[0;34m\u001b[0m\u001b[0m\n\u001b[0;32m--> 879\u001b[0;31m             \u001b[0;32mreturn\u001b[0m \u001b[0mself\u001b[0m\u001b[0;34m.\u001b[0m\u001b[0m_getitem_axis\u001b[0m\u001b[0;34m(\u001b[0m\u001b[0mmaybe_callable\u001b[0m\u001b[0;34m,\u001b[0m \u001b[0maxis\u001b[0m\u001b[0;34m=\u001b[0m\u001b[0maxis\u001b[0m\u001b[0;34m)\u001b[0m\u001b[0;34m\u001b[0m\u001b[0;34m\u001b[0m\u001b[0m\n\u001b[0m\u001b[1;32m    880\u001b[0m \u001b[0;34m\u001b[0m\u001b[0m\n\u001b[1;32m    881\u001b[0m     \u001b[0;32mdef\u001b[0m \u001b[0m_is_scalar_access\u001b[0m\u001b[0;34m(\u001b[0m\u001b[0mself\u001b[0m\u001b[0;34m,\u001b[0m \u001b[0mkey\u001b[0m\u001b[0;34m:\u001b[0m \u001b[0mTuple\u001b[0m\u001b[0;34m)\u001b[0m\u001b[0;34m:\u001b[0m\u001b[0;34m\u001b[0m\u001b[0;34m\u001b[0m\u001b[0m\n",
      "\u001b[0;32m~/anaconda3/lib/python3.8/site-packages/pandas/core/indexing.py\u001b[0m in \u001b[0;36m_getitem_axis\u001b[0;34m(self, key, axis)\u001b[0m\n\u001b[1;32m   1494\u001b[0m \u001b[0;34m\u001b[0m\u001b[0m\n\u001b[1;32m   1495\u001b[0m             \u001b[0;31m# validate the location\u001b[0m\u001b[0;34m\u001b[0m\u001b[0;34m\u001b[0m\u001b[0;34m\u001b[0m\u001b[0m\n\u001b[0;32m-> 1496\u001b[0;31m             \u001b[0mself\u001b[0m\u001b[0;34m.\u001b[0m\u001b[0m_validate_integer\u001b[0m\u001b[0;34m(\u001b[0m\u001b[0mkey\u001b[0m\u001b[0;34m,\u001b[0m \u001b[0maxis\u001b[0m\u001b[0;34m)\u001b[0m\u001b[0;34m\u001b[0m\u001b[0;34m\u001b[0m\u001b[0m\n\u001b[0m\u001b[1;32m   1497\u001b[0m \u001b[0;34m\u001b[0m\u001b[0m\n\u001b[1;32m   1498\u001b[0m             \u001b[0;32mreturn\u001b[0m \u001b[0mself\u001b[0m\u001b[0;34m.\u001b[0m\u001b[0mobj\u001b[0m\u001b[0;34m.\u001b[0m\u001b[0m_ixs\u001b[0m\u001b[0;34m(\u001b[0m\u001b[0mkey\u001b[0m\u001b[0;34m,\u001b[0m \u001b[0maxis\u001b[0m\u001b[0;34m=\u001b[0m\u001b[0maxis\u001b[0m\u001b[0;34m)\u001b[0m\u001b[0;34m\u001b[0m\u001b[0;34m\u001b[0m\u001b[0m\n",
      "\u001b[0;32m~/anaconda3/lib/python3.8/site-packages/pandas/core/indexing.py\u001b[0m in \u001b[0;36m_validate_integer\u001b[0;34m(self, key, axis)\u001b[0m\n\u001b[1;32m   1435\u001b[0m         \u001b[0mlen_axis\u001b[0m \u001b[0;34m=\u001b[0m \u001b[0mlen\u001b[0m\u001b[0;34m(\u001b[0m\u001b[0mself\u001b[0m\u001b[0;34m.\u001b[0m\u001b[0mobj\u001b[0m\u001b[0;34m.\u001b[0m\u001b[0m_get_axis\u001b[0m\u001b[0;34m(\u001b[0m\u001b[0maxis\u001b[0m\u001b[0;34m)\u001b[0m\u001b[0;34m)\u001b[0m\u001b[0;34m\u001b[0m\u001b[0;34m\u001b[0m\u001b[0m\n\u001b[1;32m   1436\u001b[0m         \u001b[0;32mif\u001b[0m \u001b[0mkey\u001b[0m \u001b[0;34m>=\u001b[0m \u001b[0mlen_axis\u001b[0m \u001b[0;32mor\u001b[0m \u001b[0mkey\u001b[0m \u001b[0;34m<\u001b[0m \u001b[0;34m-\u001b[0m\u001b[0mlen_axis\u001b[0m\u001b[0;34m:\u001b[0m\u001b[0;34m\u001b[0m\u001b[0;34m\u001b[0m\u001b[0m\n\u001b[0;32m-> 1437\u001b[0;31m             \u001b[0;32mraise\u001b[0m \u001b[0mIndexError\u001b[0m\u001b[0;34m(\u001b[0m\u001b[0;34m\"single positional indexer is out-of-bounds\"\u001b[0m\u001b[0;34m)\u001b[0m\u001b[0;34m\u001b[0m\u001b[0;34m\u001b[0m\u001b[0m\n\u001b[0m\u001b[1;32m   1438\u001b[0m \u001b[0;34m\u001b[0m\u001b[0m\n\u001b[1;32m   1439\u001b[0m     \u001b[0;31m# -------------------------------------------------------------------\u001b[0m\u001b[0;34m\u001b[0m\u001b[0;34m\u001b[0m\u001b[0;34m\u001b[0m\u001b[0m\n",
      "\u001b[0;31mIndexError\u001b[0m: single positional indexer is out-of-bounds"
     ]
    }
   ],
   "source": [
    "ALPHA_INIT = 1.48\n",
    "result = minimize(objective_function, ALPHA_INIT, method='Nelder-Mead', options={'maxiter': 500})\n",
    "alpha_hat = result.x[0]\n",
    "alpha_hat"
   ]
  },
  {
   "cell_type": "code",
   "execution_count": 13,
   "metadata": {},
   "outputs": [
    {
     "data": {
      "text/html": [
       "<div>\n",
       "<style scoped>\n",
       "    .dataframe tbody tr th:only-of-type {\n",
       "        vertical-align: middle;\n",
       "    }\n",
       "\n",
       "    .dataframe tbody tr th {\n",
       "        vertical-align: top;\n",
       "    }\n",
       "\n",
       "    .dataframe thead th {\n",
       "        text-align: right;\n",
       "    }\n",
       "</style>\n",
       "<table border=\"1\" class=\"dataframe\">\n",
       "  <thead>\n",
       "    <tr style=\"text-align: right;\">\n",
       "      <th></th>\n",
       "      <th>dates</th>\n",
       "      <th>yr</th>\n",
       "      <th>mo</th>\n",
       "      <th>da</th>\n",
       "      <th>blk_reward</th>\n",
       "      <th>governance_reward</th>\n",
       "      <th>daily_rewards</th>\n",
       "      <th>supply</th>\n",
       "    </tr>\n",
       "  </thead>\n",
       "  <tbody>\n",
       "    <tr>\n",
       "      <th>810</th>\n",
       "      <td>2021-08-21</td>\n",
       "      <td>2021</td>\n",
       "      <td>8</td>\n",
       "      <td>21</td>\n",
       "      <td>50.698977</td>\n",
       "      <td>0</td>\n",
       "      <td>73006.527327</td>\n",
       "      <td>6.163977e+08</td>\n",
       "    </tr>\n",
       "    <tr>\n",
       "      <th>811</th>\n",
       "      <td>2021-08-22</td>\n",
       "      <td>2021</td>\n",
       "      <td>8</td>\n",
       "      <td>22</td>\n",
       "      <td>50.698977</td>\n",
       "      <td>0</td>\n",
       "      <td>73006.527327</td>\n",
       "      <td>6.164708e+08</td>\n",
       "    </tr>\n",
       "    <tr>\n",
       "      <th>812</th>\n",
       "      <td>2021-08-23</td>\n",
       "      <td>2021</td>\n",
       "      <td>8</td>\n",
       "      <td>23</td>\n",
       "      <td>50.698977</td>\n",
       "      <td>0</td>\n",
       "      <td>73006.527327</td>\n",
       "      <td>6.165438e+08</td>\n",
       "    </tr>\n",
       "    <tr>\n",
       "      <th>813</th>\n",
       "      <td>2021-08-24</td>\n",
       "      <td>2021</td>\n",
       "      <td>8</td>\n",
       "      <td>24</td>\n",
       "      <td>50.698977</td>\n",
       "      <td>0</td>\n",
       "      <td>73006.527327</td>\n",
       "      <td>6.166168e+08</td>\n",
       "    </tr>\n",
       "    <tr>\n",
       "      <th>814</th>\n",
       "      <td>2021-08-25</td>\n",
       "      <td>2021</td>\n",
       "      <td>8</td>\n",
       "      <td>25</td>\n",
       "      <td>50.698977</td>\n",
       "      <td>0</td>\n",
       "      <td>73006.527327</td>\n",
       "      <td>6.166898e+08</td>\n",
       "    </tr>\n",
       "  </tbody>\n",
       "</table>\n",
       "</div>"
      ],
      "text/plain": [
       "         dates    yr  mo  da  blk_reward  governance_reward  daily_rewards  \\\n",
       "810 2021-08-21  2021   8  21   50.698977                  0   73006.527327   \n",
       "811 2021-08-22  2021   8  22   50.698977                  0   73006.527327   \n",
       "812 2021-08-23  2021   8  23   50.698977                  0   73006.527327   \n",
       "813 2021-08-24  2021   8  24   50.698977                  0   73006.527327   \n",
       "814 2021-08-25  2021   8  25   50.698977                  0   73006.527327   \n",
       "\n",
       "           supply  \n",
       "810  6.163977e+08  \n",
       "811  6.164708e+08  \n",
       "812  6.165438e+08  \n",
       "813  6.166168e+08  \n",
       "814  6.166898e+08  "
      ]
     },
     "execution_count": 13,
     "metadata": {},
     "output_type": "execute_result"
    }
   ],
   "source": [
    "N = 943\n",
    "STRT_DATE = '2019-06-03 00:00:00'\n",
    "STRT_SUPPLY = 554103161\n",
    "NUM_DAILY_BLOCKS = 24*60\n",
    "INITIAL_BLK_REWARD = alpha_hat*38.5\n",
    "\n",
    "pow_df = gen_block_rewards(strt_date = STRT_DATE, \n",
    "                           strt_supply = STRT_SUPPLY, \n",
    "                           ini_blk_reward = INITIAL_BLK_REWARD,\n",
    "                           n = N)\n",
    "\n",
    "pow_df.iloc[810:815]"
   ]
  },
  {
   "cell_type": "code",
   "execution_count": 14,
   "metadata": {},
   "outputs": [],
   "source": [
    "N = 8*365+1\n",
    "STRT_DATE = '2022-01-01 00:00:00'\n",
    "STRT_SUPPLY = pow_df['supply'].values[-1]\n",
    "NUM_DAILY_BLOCKS = 24*60\n",
    "INITIAL_BLK_REWARD = 151767*12/(365*24*60) + 7.81 + 23.45\n",
    "\n",
    "nevm_lwr = gen_block_rewards(strt_date = STRT_DATE, \n",
    "                           strt_supply = STRT_SUPPLY, \n",
    "                           ini_blk_reward = INITIAL_BLK_REWARD,\n",
    "                           n = N,\n",
    "                           nevm_rewards = 10.55,\n",
    "                           pow_rewards = 5.27)"
   ]
  },
  {
   "cell_type": "code",
   "execution_count": 15,
   "metadata": {},
   "outputs": [],
   "source": [
    "N = 8*365+1\n",
    "STRT_DATE = '2022-01-01 00:00:00'\n",
    "STRT_SUPPLY = pow_df['supply'].values[-1]\n",
    "NUM_DAILY_BLOCKS = 24*60\n",
    "INITIAL_BLK_REWARD = 151767*12/(365*24*60) + 7.81 + 46.9\n",
    "\n",
    "nevm_upr = gen_block_rewards(strt_date = STRT_DATE, \n",
    "                           strt_supply = STRT_SUPPLY, \n",
    "                           ini_blk_reward = INITIAL_BLK_REWARD,\n",
    "                           n = N,\n",
    "                           nevm_rewards = 10.55,\n",
    "                           pow_rewards = 10.55)"
   ]
  },
  {
   "cell_type": "code",
   "execution_count": 16,
   "metadata": {},
   "outputs": [],
   "source": [
    "nevm_df = nevm_lwr.iloc[:, [0,1,2,3]]\n",
    "nevm_df.insert(loc=4, column='blk_reward_lwr', value=nevm_lwr['blk_reward'].values)\n",
    "nevm_df.insert(loc=5, column='nevm_rewards_lwr', value=nevm_lwr['nevm_rewards'].values)\n",
    "nevm_df.insert(loc=6, column='pow_rewards_lwr', value=nevm_lwr['pow_rewards'].values)\n",
    "nevm_df.insert(loc=7, column='daily_rewards_lwr', value=nevm_lwr['daily_rewards'].values)\n",
    "nevm_df.insert(loc=8, column='supply_lwr', value=nevm_lwr['supply'].values)\n",
    "\n",
    "nevm_df.insert(loc=9, column='blk_reward_upr', value=nevm_upr['blk_reward'].values)\n",
    "nevm_df.insert(loc=10, column='nevm_rewards_upr', value=nevm_upr['nevm_rewards'].values)\n",
    "nevm_df.insert(loc=11, column='pow_rewards_upr', value=nevm_upr['pow_rewards'].values)\n",
    "nevm_df.insert(loc=12, column='daily_rewards_upr', value=nevm_upr['daily_rewards'].values)\n",
    "nevm_df.insert(loc=13, column='supply_upr', value=nevm_upr['supply'].values)"
   ]
  },
  {
   "cell_type": "code",
   "execution_count": 17,
   "metadata": {},
   "outputs": [
    {
     "data": {
      "text/html": [
       "<div>\n",
       "<style scoped>\n",
       "    .dataframe tbody tr th:only-of-type {\n",
       "        vertical-align: middle;\n",
       "    }\n",
       "\n",
       "    .dataframe tbody tr th {\n",
       "        vertical-align: top;\n",
       "    }\n",
       "\n",
       "    .dataframe thead th {\n",
       "        text-align: right;\n",
       "    }\n",
       "</style>\n",
       "<table border=\"1\" class=\"dataframe\">\n",
       "  <thead>\n",
       "    <tr style=\"text-align: right;\">\n",
       "      <th></th>\n",
       "      <th>dates</th>\n",
       "      <th>yr</th>\n",
       "      <th>mo</th>\n",
       "      <th>da</th>\n",
       "      <th>blk_reward</th>\n",
       "      <th>nevm_rewards</th>\n",
       "      <th>pow_rewards</th>\n",
       "      <th>governance_reward</th>\n",
       "      <th>daily_rewards</th>\n",
       "      <th>supply</th>\n",
       "    </tr>\n",
       "  </thead>\n",
       "  <tbody>\n",
       "    <tr>\n",
       "      <th>0</th>\n",
       "      <td>2022-01-01</td>\n",
       "      <td>2022</td>\n",
       "      <td>1</td>\n",
       "      <td>1</td>\n",
       "      <td>34.725</td>\n",
       "      <td>10.55</td>\n",
       "      <td>5.27</td>\n",
       "      <td>0</td>\n",
       "      <td>72784.8</td>\n",
       "      <td>6.260846e+08</td>\n",
       "    </tr>\n",
       "    <tr>\n",
       "      <th>1</th>\n",
       "      <td>2022-01-02</td>\n",
       "      <td>2022</td>\n",
       "      <td>1</td>\n",
       "      <td>2</td>\n",
       "      <td>34.725</td>\n",
       "      <td>10.55</td>\n",
       "      <td>5.27</td>\n",
       "      <td>0</td>\n",
       "      <td>72784.8</td>\n",
       "      <td>6.261346e+08</td>\n",
       "    </tr>\n",
       "    <tr>\n",
       "      <th>2</th>\n",
       "      <td>2022-01-03</td>\n",
       "      <td>2022</td>\n",
       "      <td>1</td>\n",
       "      <td>3</td>\n",
       "      <td>34.725</td>\n",
       "      <td>10.55</td>\n",
       "      <td>5.27</td>\n",
       "      <td>0</td>\n",
       "      <td>72784.8</td>\n",
       "      <td>6.261846e+08</td>\n",
       "    </tr>\n",
       "    <tr>\n",
       "      <th>3</th>\n",
       "      <td>2022-01-04</td>\n",
       "      <td>2022</td>\n",
       "      <td>1</td>\n",
       "      <td>4</td>\n",
       "      <td>34.725</td>\n",
       "      <td>10.55</td>\n",
       "      <td>5.27</td>\n",
       "      <td>0</td>\n",
       "      <td>72784.8</td>\n",
       "      <td>6.262346e+08</td>\n",
       "    </tr>\n",
       "    <tr>\n",
       "      <th>4</th>\n",
       "      <td>2022-01-05</td>\n",
       "      <td>2022</td>\n",
       "      <td>1</td>\n",
       "      <td>5</td>\n",
       "      <td>34.725</td>\n",
       "      <td>10.55</td>\n",
       "      <td>5.27</td>\n",
       "      <td>0</td>\n",
       "      <td>72784.8</td>\n",
       "      <td>6.262846e+08</td>\n",
       "    </tr>\n",
       "  </tbody>\n",
       "</table>\n",
       "</div>"
      ],
      "text/plain": [
       "       dates    yr  mo  da  blk_reward  nevm_rewards  pow_rewards  \\\n",
       "0 2022-01-01  2022   1   1      34.725         10.55         5.27   \n",
       "1 2022-01-02  2022   1   2      34.725         10.55         5.27   \n",
       "2 2022-01-03  2022   1   3      34.725         10.55         5.27   \n",
       "3 2022-01-04  2022   1   4      34.725         10.55         5.27   \n",
       "4 2022-01-05  2022   1   5      34.725         10.55         5.27   \n",
       "\n",
       "   governance_reward  daily_rewards        supply  \n",
       "0                  0        72784.8  6.260846e+08  \n",
       "1                  0        72784.8  6.261346e+08  \n",
       "2                  0        72784.8  6.261846e+08  \n",
       "3                  0        72784.8  6.262346e+08  \n",
       "4                  0        72784.8  6.262846e+08  "
      ]
     },
     "execution_count": 17,
     "metadata": {},
     "output_type": "execute_result"
    }
   ],
   "source": [
    "nevm_lwr.head(5)"
   ]
  },
  {
   "cell_type": "code",
   "execution_count": 18,
   "metadata": {},
   "outputs": [
    {
     "data": {
      "text/plain": [
       "Text(0.5, 24.0, 'Date')"
      ]
     },
     "execution_count": 18,
     "metadata": {},
     "output_type": "execute_result"
    },
    {
     "data": {
      "image/png": "[encoded data removed]",
      "text/plain": [
       "<Figure size 864x360 with 1 Axes>"
      ]
     },
     "metadata": {
      "needs_background": "light"
     },
     "output_type": "display_data"
    }
   ],
   "source": [
    "fig = plt.figure(figsize=(12,5))\n",
    "plt.plot(pow_df['dates'].values, pow_df['supply'].values, color='blue', linestyle='dashed', label=\"y_pred\")\n",
    "plt.fill_between(nevm_df['dates'].values, nevm_df['supply_lwr'].values, nevm_df['supply_upr'].values, alpha=0.7, color='lightblue')\n",
    "plt.title(\"Syscoin Supply (uses ETH Daily TX Fees)\", fontsize=20)\n",
    "fig.savefig('../img/syscoin_daily_supply.png')\n",
    "plt.xlabel(\"Date\")"
   ]
  },
  {
   "cell_type": "code",
   "execution_count": 19,
   "metadata": {},
   "outputs": [
    {
     "data": {
      "text/plain": [
       "645467229.3615"
      ]
     },
     "execution_count": 19,
     "metadata": {},
     "output_type": "execute_result"
    }
   ],
   "source": [
    "supplyNDays(INITIAL_SYS_SUPPLY,365)"
   ]
  },
  {
   "cell_type": "code",
   "execution_count": 20,
   "metadata": {},
   "outputs": [
    {
     "data": {
      "text/plain": [
       "645467229.3615"
      ]
     },
     "execution_count": 20,
     "metadata": {},
     "output_type": "execute_result"
    }
   ],
   "source": [
    "supplyNYears(INITIAL_SYS_SUPPLY,1)"
   ]
  },
  {
   "cell_type": "code",
   "execution_count": 21,
   "metadata": {},
   "outputs": [],
   "source": [
    "def f(t_x,n_coins_y):\n",
    "    n_supply = supplyNDays(INITIAL_SYS_SUPPLY,t_x)\n",
    "    val = 1\n",
    "    if(n_coins_y < 0.1*n_supply):\n",
    "        val = 4\n",
    "    elif (n_coins_y >= 0.1*n_supply and n_coins_y < 0.25*n_supply):\n",
    "        val = 3\n",
    "    elif (n_coins_y >= 0.25*n_supply and n_coins_y < n_supply):\n",
    "        val = 2        \n",
    "    else:\n",
    "        val = 0\n",
    "    return val  "
   ]
  },
  {
   "cell_type": "code",
   "execution_count": 22,
   "metadata": {},
   "outputs": [],
   "source": [
    "Xt = np.linspace(0, 3000, 1000)\n",
    "Xdate = list(map(getDate, Xt))\n",
    "Y = np.linspace(0, 1e9, 1000)\n",
    "t, n_coins = np.meshgrid(Xt, Y)"
   ]
  },
  {
   "cell_type": "code",
   "execution_count": 23,
   "metadata": {},
   "outputs": [],
   "source": [
    "def applier(a, b, op):\n",
    "    return list(map(lambda ro: list(map(op, ro[0], ro[1])), zip(a,b)))\n",
    "Z = applier(t, n_coins, f)"
   ]
  },
  {
   "cell_type": "code",
   "execution_count": 24,
   "metadata": {},
   "outputs": [
    {
     "data": {
      "image/png": "[encoded data removed]",
      "text/plain": [
       "<Figure size 576x360 with 1 Axes>"
      ]
     },
     "metadata": {
      "needs_background": "light"
     },
     "output_type": "display_data"
    }
   ],
   "source": [
    "fig = plt.figure(figsize=(8, 5))\n",
    "\n",
    "cs = plt.contourf(Xdate,Y,Z, cmap='PuBu', levels=[0,1,2,3,4])\n",
    "\n",
    "proxy = [plt.Rectangle((0,0),1,1,fc = pc.get_facecolor()[0]) for pc in cs.collections]\n",
    "\n",
    "plt.ylabel(\"Supply\")\n",
    "plt.xlabel(\"Date\")\n",
    "plt.title(\"Syscoin Distribution\", fontsize=15)\n",
    "\n",
    "plt.legend(proxy[1:], [\"masternodes\", \"miners\", \"governance\"])\n",
    "plt.show()"
   ]
  },
  {
   "cell_type": "code",
   "execution_count": 25,
   "metadata": {},
   "outputs": [],
   "source": [
    "import statsmodels.api as sm\n",
    "\n",
    "N = 6*365\n",
    "\n",
    "from statsmodels.stats.outliers_influence import summary_table\n",
    "from statsmodels.sandbox.regression.predstd import wls_prediction_std\n",
    "import numpy as np\n",
    "import random\n",
    "\n",
    "y = np.log(tx_fee['tx_fee'].values[100:])\n",
    "x = np.log(np.array(range(1,len(y)+1)))\n",
    "\n",
    "X = sm.add_constant(x)\n",
    "regr = sm.OLS(y, X)\n",
    "fit = regr.fit()\n",
    "y_hat = fit.fittedvalues\n",
    "prstd, y_hat_lwr, y_hat_upr = wls_prediction_std(fit)\n",
    "\n",
    "st, data, ss2 = summary_table(fit, alpha=0.05)\n",
    "\n",
    "x_new = np.log(np.array(range(2061,2061+N)))\n",
    "X_p = sm.add_constant(x_new)\n",
    "pred = fit.get_prediction(X_p)\n",
    "\n",
    "y_pred = pred.predicted_mean\n",
    "y_pred_lwr = y_pred - 1.96*prstd[0]\n",
    "y_pred_upr = y_pred + 1.96*prstd[0]"
   ]
  },
  {
   "cell_type": "code",
   "execution_count": 26,
   "metadata": {},
   "outputs": [],
   "source": [
    "mc_sim = [np.random.normal(y_pred[k], prstd[0],100) for k in range(0,len(y_pred))]\n",
    "mc_sim_med = [np.median(mc_sim[k]) for k in range(0,len(y_pred))]\n",
    "mc_sim_lwr = [np.quantile(mc_sim[k],0.05) for k in range(0,len(y_pred))]\n",
    "mc_sim_upr = [np.quantile(mc_sim[k],0.95) for k in range(0,len(y_pred))]"
   ]
  },
  {
   "cell_type": "code",
   "execution_count": 27,
   "metadata": {},
   "outputs": [],
   "source": [
    "sim = mc_sim[0]\n",
    "for k in range(1,len(y_pred)):\n",
    "    sim = np.vstack((sim, mc_sim[k]))"
   ]
  },
  {
   "cell_type": "code",
   "execution_count": 28,
   "metadata": {},
   "outputs": [],
   "source": [
    "dates = [getDate(t) for t in range(0,2062)]\n",
    "dates_pred = [getDate(t) for t in range(2061,2061+N)]"
   ]
  },
  {
   "cell_type": "code",
   "execution_count": 29,
   "metadata": {},
   "outputs": [
    {
     "data": {
      "image/png": "[encoded data removed]",
      "text/plain": [
       "<Figure size 864x360 with 1 Axes>"
      ]
     },
     "metadata": {
      "needs_background": "light"
     },
     "output_type": "display_data"
    }
   ],
   "source": [
    "x = np.array(range(1,len(y)+1))\n",
    "x_pred = np.array(range(2061,2061+N))\n",
    "\n",
    "fig = plt.figure(figsize=(12,5))\n",
    "ax = fig.gca()\n",
    "plt.plot(dates, y, label=\"Raw (y)\")\n",
    "plt.plot(dates, y_hat, color='blue', label=\"y_hat\")\n",
    "plt.fill_between(dates, y_hat_lwr, y_hat_upr, alpha=0.3, color='lightblue')\n",
    "\n",
    "#plot_gp_dist(ax, sim.transpose(), np.array(dates_pred), palette=\"BuPu\")\n",
    "#plt.plot(dates_pred, y_pred, color='blue', linestyle='dashed', label=\"y_pred\")\n",
    "plt.plot(dates_pred, mc_sim_med, color='purple', linestyle='dashed', label=\"y_pred\")\n",
    "#plt.fill_between(dates_pred, y_pred_lwr, y_pred_upr, alpha=0.3, color='lightblue')\n",
    "plt.fill_between(dates_pred, mc_sim_lwr, mc_sim_upr, alpha=0.3, color='lightblue')\n",
    "plt.title(\"Daily TX Fee in Ether\", fontsize=20)\n",
    "plt.xlabel(\"Date\")\n",
    "plt.ylim(-1,12)\n",
    "fig.savefig('../img/eth_daily_tx_fee.png')\n",
    "plt.legend();"
   ]
  },
  {
   "cell_type": "code",
   "execution_count": 30,
   "metadata": {},
   "outputs": [
    {
     "data": {
      "image/png": "[encoded data removed]",
      "text/plain": [
       "<Figure size 864x360 with 1 Axes>"
      ]
     },
     "metadata": {
      "needs_background": "light"
     },
     "output_type": "display_data"
    }
   ],
   "source": [
    "x = np.array(range(1,len(y)+1))\n",
    "x_pred = np.array(range(2061,2061+N))\n",
    "\n",
    "fig = plt.figure(figsize=(12,5))\n",
    "plt.plot(dates, np.exp(y), label=\"Raw (y)\")\n",
    "plt.plot(dates, np.exp(y_hat), color='blue', label=\"y_hat\")\n",
    "plt.fill_between(dates, np.exp(y_hat_lwr), np.exp(y_hat_upr), alpha=0.3, color='lightblue')\n",
    "\n",
    "plt.plot(dates_pred, np.exp(y_pred), color='blue', linestyle='dashed', label=\"y_pred\")\n",
    "plt.fill_between(dates_pred, np.exp(y_pred_lwr), np.exp(y_pred_upr), alpha=0.3, color='lightblue')\n",
    "plt.title(\"Daily TX Fee in Ether\", fontsize=20)\n",
    "fig.savefig('../img/eth_daily_tx_fee2.png')\n",
    "plt.legend();"
   ]
  },
  {
   "cell_type": "code",
   "execution_count": 31,
   "metadata": {},
   "outputs": [],
   "source": [
    "pred_df = pd.DataFrame({'dates':dates_pred,\n",
    "                        'pred':np.cumsum(np.exp(y_pred)),\n",
    "                        'pred_lwr':np.cumsum(np.exp(mc_sim_lwr)),\n",
    "                        'pred_upr':np.cumsum(np.exp(mc_sim_upr))})\n",
    "\n",
    "pred_df = pred_df.loc[pred_df['dates'].dt.year > 2021]\n",
    "pred_df = pred_df.loc[pred_df['dates'].dt.year < 2026]"
   ]
  },
  {
   "cell_type": "code",
   "execution_count": 32,
   "metadata": {},
   "outputs": [
    {
     "ename": "ValueError",
     "evalue": "operands could not be broadcast together with shapes (2921,) (1461,) ",
     "output_type": "error",
     "traceback": [
      "\u001b[0;31m---------------------------------------------------------------------------\u001b[0m",
      "\u001b[0;31mValueError\u001b[0m                                Traceback (most recent call last)",
      "\u001b[0;32m<ipython-input-32-f7e347415792>\u001b[0m in \u001b[0;36m<module>\u001b[0;34m\u001b[0m\n\u001b[0;32m----> 1\u001b[0;31m \u001b[0mcoin_supply_upr\u001b[0m \u001b[0;34m=\u001b[0m \u001b[0mnevm_df\u001b[0m\u001b[0;34m[\u001b[0m\u001b[0;34m'supply_upr'\u001b[0m\u001b[0;34m]\u001b[0m\u001b[0;34m.\u001b[0m\u001b[0mvalues\u001b[0m \u001b[0;34m+\u001b[0m \u001b[0mpred_df\u001b[0m\u001b[0;34m[\u001b[0m\u001b[0;34m'pred_upr'\u001b[0m\u001b[0;34m]\u001b[0m\u001b[0;34m.\u001b[0m\u001b[0mvalues\u001b[0m\u001b[0;34m\u001b[0m\u001b[0;34m\u001b[0m\u001b[0m\n\u001b[0m\u001b[1;32m      2\u001b[0m \u001b[0mcoin_supply_lwr\u001b[0m \u001b[0;34m=\u001b[0m \u001b[0mnevm_df\u001b[0m\u001b[0;34m[\u001b[0m\u001b[0;34m'supply_lwr'\u001b[0m\u001b[0;34m]\u001b[0m\u001b[0;34m.\u001b[0m\u001b[0mvalues\u001b[0m \u001b[0;34m-\u001b[0m \u001b[0mpred_df\u001b[0m\u001b[0;34m[\u001b[0m\u001b[0;34m'pred_lwr'\u001b[0m\u001b[0;34m]\u001b[0m\u001b[0;34m.\u001b[0m\u001b[0mvalues\u001b[0m\u001b[0;34m\u001b[0m\u001b[0;34m\u001b[0m\u001b[0m\n\u001b[1;32m      3\u001b[0m \u001b[0;34m\u001b[0m\u001b[0m\n\u001b[1;32m      4\u001b[0m \u001b[0mfig\u001b[0m \u001b[0;34m=\u001b[0m \u001b[0mplt\u001b[0m\u001b[0;34m.\u001b[0m\u001b[0mfigure\u001b[0m\u001b[0;34m(\u001b[0m\u001b[0mfigsize\u001b[0m\u001b[0;34m=\u001b[0m\u001b[0;34m(\u001b[0m\u001b[0;36m12\u001b[0m\u001b[0;34m,\u001b[0m\u001b[0;36m5\u001b[0m\u001b[0;34m)\u001b[0m\u001b[0;34m)\u001b[0m\u001b[0;34m\u001b[0m\u001b[0;34m\u001b[0m\u001b[0m\n\u001b[1;32m      5\u001b[0m \u001b[0mplt\u001b[0m\u001b[0;34m.\u001b[0m\u001b[0mplot\u001b[0m\u001b[0;34m(\u001b[0m\u001b[0mpow_df\u001b[0m\u001b[0;34m[\u001b[0m\u001b[0;34m'dates'\u001b[0m\u001b[0;34m]\u001b[0m\u001b[0;34m.\u001b[0m\u001b[0mvalues\u001b[0m\u001b[0;34m,\u001b[0m \u001b[0mpow_df\u001b[0m\u001b[0;34m[\u001b[0m\u001b[0;34m'supply'\u001b[0m\u001b[0;34m]\u001b[0m\u001b[0;34m.\u001b[0m\u001b[0mvalues\u001b[0m\u001b[0;34m,\u001b[0m \u001b[0mcolor\u001b[0m\u001b[0;34m=\u001b[0m\u001b[0;34m'blue'\u001b[0m\u001b[0;34m,\u001b[0m \u001b[0mlinestyle\u001b[0m\u001b[0;34m=\u001b[0m\u001b[0;34m'dashed'\u001b[0m\u001b[0;34m,\u001b[0m \u001b[0mlabel\u001b[0m\u001b[0;34m=\u001b[0m\u001b[0;34m\"y_pred\"\u001b[0m\u001b[0;34m)\u001b[0m\u001b[0;34m\u001b[0m\u001b[0;34m\u001b[0m\u001b[0m\n",
      "\u001b[0;31mValueError\u001b[0m: operands could not be broadcast together with shapes (2921,) (1461,) "
     ]
    }
   ],
   "source": [
    "coin_supply_upr = nevm_df['supply_upr'].values + pred_df['pred_upr'].values\n",
    "coin_supply_lwr = nevm_df['supply_lwr'].values - pred_df['pred_lwr'].values\n",
    "\n",
    "fig = plt.figure(figsize=(12,5))\n",
    "plt.plot(pow_df['dates'].values, pow_df['supply'].values, color='blue', linestyle='dashed', label=\"y_pred\")\n",
    "plt.fill_between(pred_df['dates'].values, coin_supply_lwr, coin_supply_upr, alpha=0.3, color='lightblue')\n",
    "plt.title(\"Syscoin Supply (uses ETH Daily TX Fees)\", fontsize=20)\n",
    "fig.savefig('../img/syscoin_daily_supply.png')\n",
    "plt.xlabel(\"Date\")"
   ]
  },
  {
   "cell_type": "code",
   "execution_count": null,
   "metadata": {},
   "outputs": [],
   "source": [
    "df_pred = pd.DataFrame({'dates':pred_df['dates'].values, \n",
    "                        'yr':pred_df['dates'].dt.year, \n",
    "                        'mo':pred_df['dates'].dt.month,\n",
    "                        'da':pred_df['dates'].dt.day,\n",
    "                        'coin_supply_lwr':coin_supply_lwr,\n",
    "                        'coin_supply_upr':coin_supply_upr\n",
    "                       })"
   ]
  },
  {
   "cell_type": "code",
   "execution_count": null,
   "metadata": {},
   "outputs": [],
   "source": [
    "supplyNYears(INITIAL_SYS_SUPPLY,3)"
   ]
  },
  {
   "cell_type": "code",
   "execution_count": null,
   "metadata": {},
   "outputs": [],
   "source": [
    "supplyNDays(INITIAL_SYS_SUPPLY,3*365)"
   ]
  },
  {
   "cell_type": "code",
   "execution_count": null,
   "metadata": {},
   "outputs": [],
   "source": [
    "from scipy.optimize import curve_fit\n",
    "\n",
    "x = np.array(range(1,len(y)+1))\n",
    "y = np.log(tx_fee['tx_fee'].values[100:])\n",
    "\n",
    "def func(x, p1, p2):\n",
    "    return p1 + p2*np.log(x) \n",
    "\n",
    "\n",
    "popt, pcov = curve_fit(func, x, y)\n",
    "\n",
    "p1 = popt[0]\n",
    "p2 = popt[1]\n",
    "\n",
    "# plot curve\n",
    "y_hat = func(x,p1,p2)\n",
    "\n",
    "x_new = np.array(range(x[-1],x[-1]+N))\n",
    "y_pred = func(x_new,p1,p2)\n",
    "\n",
    "plt.figure(figsize=(12,5))\n",
    "plt.plot(x, y, label=\"Raw data\")\n",
    "plt.plot(x, y_hat, label=\"Raw data\")\n",
    "plt.plot(x_new, y_pred, label=\"Raw data\")\n"
   ]
  }
 ],
 "metadata": {
  "kernelspec": {
   "display_name": "Python 3",
   "language": "python",
   "name": "python3"
  },
  "language_info": {
   "codemirror_mode": {
    "name": "ipython",
    "version": 3
   },
   "file_extension": ".py",
   "mimetype": "text/x-python",
   "name": "python",
   "nbconvert_exporter": "python",
   "pygments_lexer": "ipython3",
   "version": "3.8.5"
  }
 },
 "nbformat": 4,
 "nbformat_minor": 4
}
