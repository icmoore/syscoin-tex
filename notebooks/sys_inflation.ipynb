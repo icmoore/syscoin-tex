{
 "cells": [
  {
   "cell_type": "markdown",
   "metadata": {},
   "source": [
    "https://math.stackexchange.com/questions/1792539/how-do-we-convert-annual-growth-rate-to-daily-growth-rate\n",
    "https://stackoverflow.com/questions/13556703/array-elementwise-operations\n",
    "https://matplotlib.org/stable/tutorials/colors/colormaps.html\n",
    "https://stackoverflow.com/questions/17559408/confidence-and-prediction-intervals-with-statsmodels\n",
    "https://syscoin.org/syscoin3_whitepaper_summary.pdf\n",
    "https://messari.io/asset/syscoin/chart/sply-circ"
   ]
  },
  {
   "cell_type": "code",
   "execution_count": 1,
   "metadata": {},
   "outputs": [],
   "source": [
    "import datetime\n",
    "import numpy as np\n",
    "import pandas as pd\n",
    "import matplotlib.pyplot as plt\n",
    "from scipy.optimize import fmin, minimize"
   ]
  },
  {
   "cell_type": "code",
   "execution_count": 2,
   "metadata": {},
   "outputs": [],
   "source": [
    "tx_fee = pd.read_csv('../resources/ETHTransactionFee.csv')\n",
    "tx_fee.columns = ['date', 'timestamp','tx_fee']\n",
    "tx_fee = tx_fee.assign(tx_fee = [float(tx)/1e18 for tx in tx_fee['tx_fee'].values])\n",
    "date_split = [t.rstrip().split('/') for t in tx_fee['date'].values]\n",
    "date_times = [datetime.date(int(t[2]), int(t[0]), int(t[1])) for t in date_split]\n",
    "tx_fee = tx_fee.assign(date_time = date_times)"
   ]
  },
  {
   "cell_type": "code",
   "execution_count": 3,
   "metadata": {},
   "outputs": [],
   "source": [
    "INITIAL_SYS_SUPPLY = 614730694.63 # June 28th, 2021"
   ]
  },
  {
   "cell_type": "code",
   "execution_count": 4,
   "metadata": {},
   "outputs": [
    {
     "data": {
      "text/plain": [
       "date          11/7/2015\n",
       "timestamp    1446854400\n",
       "tx_fee         32.07992\n",
       "date_time    2015-11-07\n",
       "Name: 100, dtype: object"
      ]
     },
     "execution_count": 4,
     "metadata": {},
     "output_type": "execute_result"
    }
   ],
   "source": [
    "tx_fee.loc[100]"
   ]
  },
  {
   "cell_type": "code",
   "execution_count": 5,
   "metadata": {},
   "outputs": [],
   "source": [
    "INITIAL_SYS_SUPPLY = 614730694.63 # June 28th, 2021\n",
    "MAX_COINS = 888000000\n",
    "DAYS_IN_YEAR = 365\n",
    "ANNUAL_INFLATION = 0.05\n",
    "DAILY_PERCENTAGE_GRWTH = (1+ANNUAL_INFLATION)**(1/DAYS_IN_YEAR)\n",
    "LAST_DATE = '2021-06-28 00:00:00'\n",
    "START_DATE = '2015-11-07 00:00:00'"
   ]
  },
  {
   "cell_type": "code",
   "execution_count": 6,
   "metadata": {},
   "outputs": [],
   "source": [
    "def supplyNYears(A,t):\n",
    "    return A*(1.05)**t\n",
    "\n",
    "def supplyNDays(A,t):\n",
    "    daysInYr = 366 if isLeapYear(getDate(t, strt_date = LAST_DATE).year) else 365\n",
    "    return A*(1.05)**(t/365)"
   ]
  },
  {
   "cell_type": "code",
   "execution_count": 7,
   "metadata": {},
   "outputs": [],
   "source": [
    "def isLeapYear(yr):\n",
    "    return bool((yr-2000) % 4 == 0) \n",
    "\n",
    "def getDate(t, strt_date = START_DATE):\n",
    "    return datetime.datetime.strptime(strt_date, \"%Y-%m-%d %H:%M:%S\") + datetime.timedelta(days=t) "
   ]
  },
  {
   "cell_type": "code",
   "execution_count": 8,
   "metadata": {},
   "outputs": [],
   "source": [
    "N = 365\n",
    "STRT_DATE = '2022-01-01 00:00:00'\n",
    "STRT_SUPPLY = 554103161\n",
    "STRT_YR = 2019\n",
    "DEFLATION = 0.05\n",
    "INITIAL_BLK_REWARD = 151767*12/(365*24*60) + 7.81 + 23.45\n",
    "NUM_DAILY_BLOCKS = 24*60\n",
    "\n",
    "def gen_block_rewards(strt_date = STRT_DATE,\n",
    "                      strt_supply = STRT_SUPPLY,\n",
    "                      ini_blk_reward = INITIAL_BLK_REWARD,\n",
    "                      n = N,\n",
    "                      deflation = DEFLATION,\n",
    "                      num_daily_blocks = NUM_DAILY_BLOCKS,\n",
    "                      nevm_rewards = None,\n",
    "                      pow_rewards = None):\n",
    "    \n",
    "    STRT_YR = datetime.datetime.strptime(strt_date, \"%Y-%m-%d %H:%M:%S\").year\n",
    "    blk_rewards = [ini_blk_reward]\n",
    "    dates = np.array([getDate(t, strt_date = strt_date) for t in range(0,n)])\n",
    "    da = np.array([dates.flatten()[t].day for t in range(0,n)])\n",
    "    mo = np.array([dates.flatten()[t].month for t in range(0,n)])\n",
    "    yr = np.array([dates.flatten()[t].year for t in range(0,n)])\n",
    "\n",
    "    rewards = np.repeat(0.0,n)\n",
    "    rewards[0] = blk_rewards[0]\n",
    "\n",
    "    for k in range(1, n):\n",
    "        diff_yr = yr[k] - yr[k-1]\n",
    "        diff_mo = mo[k] - mo[k-1]\n",
    "        rewards[k] = blk_rewards[len(blk_rewards)-1]\n",
    "        \n",
    "        if diff_mo == 1:\n",
    "            blk_reward = blk_rewards[len(blk_rewards)-1]\n",
    "        \n",
    "        if diff_yr == 1:\n",
    "            blk_reward = blk_rewards[len(blk_rewards)-1]\n",
    "            blk_rewards.append(blk_reward - deflation*blk_reward)\n",
    "\n",
    "    daily_rewards = rewards*num_daily_blocks       \n",
    "            \n",
    "    df = pd.DataFrame({'dates':dates.flatten(),\n",
    "                       'yr':yr.flatten(),\n",
    "                       'mo':mo.flatten(),\n",
    "                       'da':da.flatten(),\n",
    "                       'blk_reward':rewards,\n",
    "                       'daily_rewards':daily_rewards,\n",
    "                       'supply':strt_supply+np.cumsum(daily_rewards)})\n",
    "    \n",
    "    if (nevm_rewards != None): \n",
    "        df.insert(loc=5, column='nevm_rewards', value=nevm_rewards)\n",
    "\n",
    "    if (pow_rewards != None): \n",
    "        df.insert(loc=6, column='pow_rewards', value=pow_rewards)  \n",
    "        \n",
    "    if (nevm_rewards != None) & (pow_rewards != None):\n",
    "        rewards = rewards + np.repeat(nevm_rewards,n)\n",
    "        daily_rewards = rewards*num_daily_blocks \n",
    "        df = df.assign(daily_rewards=daily_rewards)\n",
    "          \n",
    "    return df"
   ]
  },
  {
   "cell_type": "code",
   "execution_count": 9,
   "metadata": {},
   "outputs": [
    {
     "data": {
      "text/plain": [
       "747209001.3896676"
      ]
     },
     "execution_count": 9,
     "metadata": {},
     "output_type": "execute_result"
    }
   ],
   "source": [
    "N = 365*4 + 1\n",
    "\n",
    "supply = [INITIAL_SYS_SUPPLY]\n",
    "for t in range(1,N): supply.append(supply[-1]*DAILY_PERCENTAGE_GRWTH)\n",
    "supply = np.array(supply)\n",
    "dates = np.array([getDate(t) for t in range(0,N)])\n",
    "\n",
    "df = pd.DataFrame({'dates':dates.flatten(), 'inflate':supply.flatten()})\n",
    "df['inflate'].values[-1]"
   ]
  },
  {
   "cell_type": "code",
   "execution_count": 10,
   "metadata": {},
   "outputs": [],
   "source": [
    "# Jun 03 2019 (start)\n",
    "# supply = 554103161\n",
    "\n",
    "# Aug 23, 2021 (end) \n",
    "# supply 617746652"
   ]
  },
  {
   "cell_type": "code",
   "execution_count": 11,
   "metadata": {},
   "outputs": [],
   "source": [
    "INDEX = 812\n",
    "SUPPLY_AT_INDEX = 617746652\n",
    "\n",
    "def objective_function(alpha):\n",
    "    \n",
    "    pow_df = gen_block_rewards(strt_date = STRT_DATE, \n",
    "                           strt_supply = STRT_SUPPLY, \n",
    "                           ini_blk_reward = alpha*38.5,\n",
    "                           n = N)\n",
    "                  \n",
    "    return abs(SUPPLY_AT_INDEX - pow_df['supply'].iloc[INDEX])"
   ]
  },
  {
   "cell_type": "code",
   "execution_count": 12,
   "metadata": {},
   "outputs": [
    {
     "data": {
      "text/plain": [
       "1.4591208198611727"
      ]
     },
     "execution_count": 12,
     "metadata": {},
     "output_type": "execute_result"
    }
   ],
   "source": [
    "ALPHA_INIT = 1.4872300387520823\n",
    "result = minimize(objective_function, ALPHA_INIT, method='SLSQP', options={'maxiter': 1000})\n",
    "alpha_hat = result.x[0]\n",
    "alpha_hat"
   ]
  },
  {
   "cell_type": "code",
   "execution_count": 13,
   "metadata": {},
   "outputs": [
    {
     "data": {
      "text/html": [
       "<div>\n",
       "<style scoped>\n",
       "    .dataframe tbody tr th:only-of-type {\n",
       "        vertical-align: middle;\n",
       "    }\n",
       "\n",
       "    .dataframe tbody tr th {\n",
       "        vertical-align: top;\n",
       "    }\n",
       "\n",
       "    .dataframe thead th {\n",
       "        text-align: right;\n",
       "    }\n",
       "</style>\n",
       "<table border=\"1\" class=\"dataframe\">\n",
       "  <thead>\n",
       "    <tr style=\"text-align: right;\">\n",
       "      <th></th>\n",
       "      <th>dates</th>\n",
       "      <th>yr</th>\n",
       "      <th>mo</th>\n",
       "      <th>da</th>\n",
       "      <th>blk_reward</th>\n",
       "      <th>daily_rewards</th>\n",
       "      <th>supply</th>\n",
       "    </tr>\n",
       "  </thead>\n",
       "  <tbody>\n",
       "    <tr>\n",
       "      <th>810</th>\n",
       "      <td>2021-08-21</td>\n",
       "      <td>2021</td>\n",
       "      <td>8</td>\n",
       "      <td>21</td>\n",
       "      <td>51.675667</td>\n",
       "      <td>74412.960097</td>\n",
       "      <td>6.175978e+08</td>\n",
       "    </tr>\n",
       "    <tr>\n",
       "      <th>811</th>\n",
       "      <td>2021-08-22</td>\n",
       "      <td>2021</td>\n",
       "      <td>8</td>\n",
       "      <td>22</td>\n",
       "      <td>51.675667</td>\n",
       "      <td>74412.960097</td>\n",
       "      <td>6.176722e+08</td>\n",
       "    </tr>\n",
       "    <tr>\n",
       "      <th>812</th>\n",
       "      <td>2021-08-23</td>\n",
       "      <td>2021</td>\n",
       "      <td>8</td>\n",
       "      <td>23</td>\n",
       "      <td>51.675667</td>\n",
       "      <td>74412.960097</td>\n",
       "      <td>6.177466e+08</td>\n",
       "    </tr>\n",
       "    <tr>\n",
       "      <th>813</th>\n",
       "      <td>2021-08-24</td>\n",
       "      <td>2021</td>\n",
       "      <td>8</td>\n",
       "      <td>24</td>\n",
       "      <td>51.675667</td>\n",
       "      <td>74412.960097</td>\n",
       "      <td>6.178211e+08</td>\n",
       "    </tr>\n",
       "    <tr>\n",
       "      <th>814</th>\n",
       "      <td>2021-08-25</td>\n",
       "      <td>2021</td>\n",
       "      <td>8</td>\n",
       "      <td>25</td>\n",
       "      <td>51.675667</td>\n",
       "      <td>74412.960097</td>\n",
       "      <td>6.178955e+08</td>\n",
       "    </tr>\n",
       "  </tbody>\n",
       "</table>\n",
       "</div>"
      ],
      "text/plain": [
       "         dates    yr  mo  da  blk_reward  daily_rewards        supply\n",
       "810 2021-08-21  2021   8  21   51.675667   74412.960097  6.175978e+08\n",
       "811 2021-08-22  2021   8  22   51.675667   74412.960097  6.176722e+08\n",
       "812 2021-08-23  2021   8  23   51.675667   74412.960097  6.177466e+08\n",
       "813 2021-08-24  2021   8  24   51.675667   74412.960097  6.178211e+08\n",
       "814 2021-08-25  2021   8  25   51.675667   74412.960097  6.178955e+08"
      ]
     },
     "execution_count": 13,
     "metadata": {},
     "output_type": "execute_result"
    }
   ],
   "source": [
    "alpha_hat = 1.4872300387520823\n",
    "N = 943\n",
    "STRT_DATE = '2019-06-03 00:00:00'\n",
    "STRT_SUPPLY = 554103161\n",
    "NUM_DAILY_BLOCKS = 24*60\n",
    "INITIAL_BLK_REWARD = alpha_hat*38.5\n",
    "\n",
    "pow_df = gen_block_rewards(strt_date = STRT_DATE, \n",
    "                           strt_supply = STRT_SUPPLY, \n",
    "                           ini_blk_reward = INITIAL_BLK_REWARD,\n",
    "                           n = N)\n",
    "\n",
    "pow_df.iloc[810:815]"
   ]
  },
  {
   "cell_type": "code",
   "execution_count": 14,
   "metadata": {},
   "outputs": [
    {
     "data": {
      "text/html": [
       "<div>\n",
       "<style scoped>\n",
       "    .dataframe tbody tr th:only-of-type {\n",
       "        vertical-align: middle;\n",
       "    }\n",
       "\n",
       "    .dataframe tbody tr th {\n",
       "        vertical-align: top;\n",
       "    }\n",
       "\n",
       "    .dataframe thead th {\n",
       "        text-align: right;\n",
       "    }\n",
       "</style>\n",
       "<table border=\"1\" class=\"dataframe\">\n",
       "  <thead>\n",
       "    <tr style=\"text-align: right;\">\n",
       "      <th></th>\n",
       "      <th>dates</th>\n",
       "      <th>yr</th>\n",
       "      <th>mo</th>\n",
       "      <th>da</th>\n",
       "      <th>blk_reward</th>\n",
       "      <th>daily_rewards</th>\n",
       "      <th>supply</th>\n",
       "    </tr>\n",
       "  </thead>\n",
       "  <tbody>\n",
       "    <tr>\n",
       "      <th>940</th>\n",
       "      <td>2021-12-29</td>\n",
       "      <td>2021</td>\n",
       "      <td>12</td>\n",
       "      <td>29</td>\n",
       "      <td>51.675667</td>\n",
       "      <td>74412.960097</td>\n",
       "      <td>6.272715e+08</td>\n",
       "    </tr>\n",
       "    <tr>\n",
       "      <th>941</th>\n",
       "      <td>2021-12-30</td>\n",
       "      <td>2021</td>\n",
       "      <td>12</td>\n",
       "      <td>30</td>\n",
       "      <td>51.675667</td>\n",
       "      <td>74412.960097</td>\n",
       "      <td>6.273459e+08</td>\n",
       "    </tr>\n",
       "    <tr>\n",
       "      <th>942</th>\n",
       "      <td>2021-12-31</td>\n",
       "      <td>2021</td>\n",
       "      <td>12</td>\n",
       "      <td>31</td>\n",
       "      <td>51.675667</td>\n",
       "      <td>74412.960097</td>\n",
       "      <td>6.274203e+08</td>\n",
       "    </tr>\n",
       "  </tbody>\n",
       "</table>\n",
       "</div>"
      ],
      "text/plain": [
       "         dates    yr  mo  da  blk_reward  daily_rewards        supply\n",
       "940 2021-12-29  2021  12  29   51.675667   74412.960097  6.272715e+08\n",
       "941 2021-12-30  2021  12  30   51.675667   74412.960097  6.273459e+08\n",
       "942 2021-12-31  2021  12  31   51.675667   74412.960097  6.274203e+08"
      ]
     },
     "execution_count": 14,
     "metadata": {},
     "output_type": "execute_result"
    }
   ],
   "source": [
    "pow_df.tail(3)"
   ]
  },
  {
   "cell_type": "code",
   "execution_count": 15,
   "metadata": {},
   "outputs": [],
   "source": [
    "N = 12*365+3\n",
    "STRT_DATE = '2021-12-06 00:00:00'\n",
    "STRT_SUPPLY = pow_df['supply'].iloc[917]\n",
    "NUM_DAILY_BLOCKS = 24*60\n",
    "INITIAL_BLK_REWARD = 151767*12/(365*24*60) + 7.81 + 23.45\n",
    "\n",
    "nevm_lwr = gen_block_rewards(strt_date = STRT_DATE, \n",
    "                           strt_supply = STRT_SUPPLY, \n",
    "                           ini_blk_reward = INITIAL_BLK_REWARD,\n",
    "                           n = N,\n",
    "                           nevm_rewards = 10.55,\n",
    "                           pow_rewards = 5.27)"
   ]
  },
  {
   "cell_type": "code",
   "execution_count": 16,
   "metadata": {},
   "outputs": [],
   "source": [
    "N = 12*365+3\n",
    "STRT_DATE = '2021-12-06 00:00:00'\n",
    "STRT_SUPPLY = pow_df['supply'].iloc[917]\n",
    "NUM_DAILY_BLOCKS = 24*60\n",
    "INITIAL_BLK_REWARD = pow_df['blk_reward'].values[-1]\n",
    "\n",
    "nevm_med = gen_block_rewards(strt_date = STRT_DATE, \n",
    "                           strt_supply = STRT_SUPPLY, \n",
    "                           ini_blk_reward = INITIAL_BLK_REWARD,\n",
    "                           n = N,\n",
    "                           nevm_rewards = 10.55,\n",
    "                           pow_rewards = 10.55)"
   ]
  },
  {
   "cell_type": "code",
   "execution_count": 17,
   "metadata": {},
   "outputs": [],
   "source": [
    "N = 12*365+3\n",
    "STRT_DATE = '2021-12-06 00:00:00'\n",
    "STRT_SUPPLY = pow_df['supply'].iloc[917]\n",
    "NUM_DAILY_BLOCKS = 24*60\n",
    "INITIAL_BLK_REWARD = 151767*12/(365*24*60) + 7.81 + 46.9\n",
    "\n",
    "nevm_upr = gen_block_rewards(strt_date = STRT_DATE, \n",
    "                           strt_supply = STRT_SUPPLY, \n",
    "                           ini_blk_reward = INITIAL_BLK_REWARD,\n",
    "                           n = N,\n",
    "                           nevm_rewards = 10.55,\n",
    "                           pow_rewards = 10.55)"
   ]
  },
  {
   "cell_type": "code",
   "execution_count": 18,
   "metadata": {},
   "outputs": [],
   "source": [
    "nevm_df = nevm_lwr.iloc[:, [0,1,2,3]]\n",
    "nevm_df.insert(loc=4, column='blk_reward_lwr', value=nevm_lwr['blk_reward'].values)\n",
    "nevm_df.insert(loc=5, column='nevm_rewards_lwr', value=nevm_lwr['nevm_rewards'].values)\n",
    "nevm_df.insert(loc=6, column='pow_rewards_lwr', value=nevm_lwr['pow_rewards'].values)\n",
    "nevm_df.insert(loc=7, column='daily_rewards_lwr', value=nevm_lwr['daily_rewards'].values)\n",
    "nevm_df.insert(loc=8, column='supply_lwr', value=nevm_lwr['supply'].values)\n",
    "\n",
    "nevm_df.insert(loc=9, column='blk_reward_upr', value=nevm_upr['blk_reward'].values)\n",
    "nevm_df.insert(loc=10, column='nevm_rewards_upr', value=nevm_upr['nevm_rewards'].values)\n",
    "nevm_df.insert(loc=11, column='pow_rewards_upr', value=nevm_upr['pow_rewards'].values)\n",
    "nevm_df.insert(loc=12, column='daily_rewards_upr', value=nevm_upr['daily_rewards'].values)\n",
    "nevm_df.insert(loc=13, column='supply_upr', value=nevm_upr['supply'].values)"
   ]
  },
  {
   "cell_type": "code",
   "execution_count": 19,
   "metadata": {},
   "outputs": [
    {
     "data": {
      "text/html": [
       "<div>\n",
       "<style scoped>\n",
       "    .dataframe tbody tr th:only-of-type {\n",
       "        vertical-align: middle;\n",
       "    }\n",
       "\n",
       "    .dataframe tbody tr th {\n",
       "        vertical-align: top;\n",
       "    }\n",
       "\n",
       "    .dataframe thead th {\n",
       "        text-align: right;\n",
       "    }\n",
       "</style>\n",
       "<table border=\"1\" class=\"dataframe\">\n",
       "  <thead>\n",
       "    <tr style=\"text-align: right;\">\n",
       "      <th></th>\n",
       "      <th>dates</th>\n",
       "      <th>yr</th>\n",
       "      <th>mo</th>\n",
       "      <th>da</th>\n",
       "      <th>blk_reward</th>\n",
       "      <th>nevm_rewards</th>\n",
       "      <th>pow_rewards</th>\n",
       "      <th>daily_rewards</th>\n",
       "      <th>supply</th>\n",
       "    </tr>\n",
       "  </thead>\n",
       "  <tbody>\n",
       "    <tr>\n",
       "      <th>0</th>\n",
       "      <td>2021-12-06</td>\n",
       "      <td>2021</td>\n",
       "      <td>12</td>\n",
       "      <td>6</td>\n",
       "      <td>58.175</td>\n",
       "      <td>10.55</td>\n",
       "      <td>10.55</td>\n",
       "      <td>98964.0</td>\n",
       "      <td>6.256438e+08</td>\n",
       "    </tr>\n",
       "    <tr>\n",
       "      <th>1</th>\n",
       "      <td>2021-12-07</td>\n",
       "      <td>2021</td>\n",
       "      <td>12</td>\n",
       "      <td>7</td>\n",
       "      <td>58.175</td>\n",
       "      <td>10.55</td>\n",
       "      <td>10.55</td>\n",
       "      <td>98964.0</td>\n",
       "      <td>6.257276e+08</td>\n",
       "    </tr>\n",
       "    <tr>\n",
       "      <th>2</th>\n",
       "      <td>2021-12-08</td>\n",
       "      <td>2021</td>\n",
       "      <td>12</td>\n",
       "      <td>8</td>\n",
       "      <td>58.175</td>\n",
       "      <td>10.55</td>\n",
       "      <td>10.55</td>\n",
       "      <td>98964.0</td>\n",
       "      <td>6.258113e+08</td>\n",
       "    </tr>\n",
       "    <tr>\n",
       "      <th>3</th>\n",
       "      <td>2021-12-09</td>\n",
       "      <td>2021</td>\n",
       "      <td>12</td>\n",
       "      <td>9</td>\n",
       "      <td>58.175</td>\n",
       "      <td>10.55</td>\n",
       "      <td>10.55</td>\n",
       "      <td>98964.0</td>\n",
       "      <td>6.258951e+08</td>\n",
       "    </tr>\n",
       "    <tr>\n",
       "      <th>4</th>\n",
       "      <td>2021-12-10</td>\n",
       "      <td>2021</td>\n",
       "      <td>12</td>\n",
       "      <td>10</td>\n",
       "      <td>58.175</td>\n",
       "      <td>10.55</td>\n",
       "      <td>10.55</td>\n",
       "      <td>98964.0</td>\n",
       "      <td>6.259789e+08</td>\n",
       "    </tr>\n",
       "  </tbody>\n",
       "</table>\n",
       "</div>"
      ],
      "text/plain": [
       "       dates    yr  mo  da  blk_reward  nevm_rewards  pow_rewards  \\\n",
       "0 2021-12-06  2021  12   6      58.175         10.55        10.55   \n",
       "1 2021-12-07  2021  12   7      58.175         10.55        10.55   \n",
       "2 2021-12-08  2021  12   8      58.175         10.55        10.55   \n",
       "3 2021-12-09  2021  12   9      58.175         10.55        10.55   \n",
       "4 2021-12-10  2021  12  10      58.175         10.55        10.55   \n",
       "\n",
       "   daily_rewards        supply  \n",
       "0        98964.0  6.256438e+08  \n",
       "1        98964.0  6.257276e+08  \n",
       "2        98964.0  6.258113e+08  \n",
       "3        98964.0  6.258951e+08  \n",
       "4        98964.0  6.259789e+08  "
      ]
     },
     "execution_count": 19,
     "metadata": {},
     "output_type": "execute_result"
    }
   ],
   "source": [
    "nevm_upr.head(5)"
   ]
  },
  {
   "cell_type": "code",
   "execution_count": 20,
   "metadata": {},
   "outputs": [
    {
     "data": {
      "image/png": "[encoded data removed]",
      "text/plain": [
       "<Figure size 864x360 with 1 Axes>"
      ]
     },
     "metadata": {
      "needs_background": "light"
     },
     "output_type": "display_data"
    }
   ],
   "source": [
    "fig = plt.figure(figsize=(12,5))\n",
    "plt.plot(nevm_med['dates'].values, nevm_med['supply'].values, color='green', linestyle='dashed', label=\"y_pred\")\n",
    "plt.plot(pow_df['dates'].values, pow_df['supply'].values, color='blue', linestyle='dashed', label=\"y_pred\")\n",
    "plt.fill_between(nevm_df['dates'].values, nevm_df['supply_lwr'].values, nevm_df['supply_upr'].values, alpha=0.7, color='lightblue')\n",
    "plt.title(\"Syscoin Supply (uses ETH Daily TX Fees)\", fontsize=20)\n",
    "plt.ylabel(\"Supply\", fontsize=14)\n",
    "plt.xlabel(\"Date\", fontsize=14)\n",
    "fig.savefig('../img/syscoin_daily_supply.png')"
   ]
  },
  {
   "cell_type": "code",
   "execution_count": 21,
   "metadata": {},
   "outputs": [
    {
     "data": {
      "text/plain": [
       "645467229.3615"
      ]
     },
     "execution_count": 21,
     "metadata": {},
     "output_type": "execute_result"
    }
   ],
   "source": [
    "supplyNDays(INITIAL_SYS_SUPPLY,365)"
   ]
  },
  {
   "cell_type": "code",
   "execution_count": 22,
   "metadata": {},
   "outputs": [
    {
     "data": {
      "text/plain": [
       "645467229.3615"
      ]
     },
     "execution_count": 22,
     "metadata": {},
     "output_type": "execute_result"
    }
   ],
   "source": [
    "supplyNYears(INITIAL_SYS_SUPPLY,1)"
   ]
  },
  {
   "cell_type": "code",
   "execution_count": 23,
   "metadata": {},
   "outputs": [],
   "source": [
    "def f(t_x,n_coins_y):\n",
    "    n_supply = supplyNDays(INITIAL_SYS_SUPPLY,t_x)\n",
    "    val = 1\n",
    "    if(n_coins_y < 0.1*n_supply):\n",
    "        val = 4\n",
    "    elif (n_coins_y >= 0.1*n_supply and n_coins_y < 0.25*n_supply):\n",
    "        val = 3\n",
    "    elif (n_coins_y >= 0.25*n_supply and n_coins_y < n_supply):\n",
    "        val = 2        \n",
    "    else:\n",
    "        val = 0\n",
    "    return val  "
   ]
  },
  {
   "cell_type": "code",
   "execution_count": 24,
   "metadata": {},
   "outputs": [],
   "source": [
    "Xt = np.linspace(0, 3000, 1000)\n",
    "Xdate = list(map(getDate, Xt))\n",
    "Y = np.linspace(0, 1e9, 1000)\n",
    "t, n_coins = np.meshgrid(Xt, Y)"
   ]
  },
  {
   "cell_type": "code",
   "execution_count": 25,
   "metadata": {},
   "outputs": [],
   "source": [
    "def applier(a, b, op):\n",
    "    return list(map(lambda ro: list(map(op, ro[0], ro[1])), zip(a,b)))\n",
    "Z = applier(t, n_coins, f)"
   ]
  },
  {
   "cell_type": "code",
   "execution_count": 26,
   "metadata": {},
   "outputs": [
    {
     "data": {
      "image/png": "[encoded data removed]",
      "text/plain": [
       "<Figure size 576x360 with 1 Axes>"
      ]
     },
     "metadata": {
      "needs_background": "light"
     },
     "output_type": "display_data"
    }
   ],
   "source": [
    "fig = plt.figure(figsize=(8, 5))\n",
    "\n",
    "cs = plt.contourf(Xdate,Y,Z, cmap='PuBu', levels=[0,1,2,3,4])\n",
    "\n",
    "proxy = [plt.Rectangle((0,0),1,1,fc = pc.get_facecolor()[0]) for pc in cs.collections]\n",
    "\n",
    "plt.ylabel(\"Supply\")\n",
    "plt.xlabel(\"Date\")\n",
    "plt.title(\"Syscoin Distribution\", fontsize=15)\n",
    "\n",
    "plt.legend(proxy[1:], [\"masternodes\", \"miners\", \"governance\"])\n",
    "plt.show()"
   ]
  },
  {
   "cell_type": "code",
   "execution_count": 27,
   "metadata": {},
   "outputs": [
    {
     "data": {
      "text/plain": [
       "2244.0940505014605"
      ]
     },
     "execution_count": 27,
     "metadata": {},
     "output_type": "execute_result"
    }
   ],
   "source": [
    "tx_fee['tx_fee'].values[-1]"
   ]
  },
  {
   "cell_type": "code",
   "execution_count": 28,
   "metadata": {},
   "outputs": [],
   "source": [
    "import statsmodels.api as sm\n",
    "\n",
    "N = 12*365\n",
    "\n",
    "from statsmodels.stats.outliers_influence import summary_table\n",
    "from statsmodels.sandbox.regression.predstd import wls_prediction_std\n",
    "import numpy as np\n",
    "import random\n",
    "\n",
    "y = np.log(tx_fee['tx_fee'].values[100:])\n",
    "x = np.log(np.array(range(1,len(y)+1)))\n",
    "\n",
    "X = sm.add_constant(x)\n",
    "regr = sm.OLS(y, X)\n",
    "fit = regr.fit()\n",
    "y_hat = fit.fittedvalues\n",
    "prstd, y_hat_lwr, y_hat_upr = wls_prediction_std(fit)\n",
    "\n",
    "st, data, ss2 = summary_table(fit, alpha=0.05)\n",
    "\n",
    "x_new = np.log(np.array(range(2061,2061+N)))\n",
    "X_p = sm.add_constant(x_new)\n",
    "pred = fit.get_prediction(X_p)\n",
    "\n",
    "y_pred = pred.predicted_mean\n",
    "y_pred_lwr = y_pred - 1.96*prstd[0]\n",
    "y_pred_upr = y_pred + 1.96*prstd[0]"
   ]
  },
  {
   "cell_type": "code",
   "execution_count": 29,
   "metadata": {},
   "outputs": [],
   "source": [
    "mc_sim = [np.random.normal(y_pred[k], prstd[0],100) for k in range(0,len(y_pred))]\n",
    "mc_sim_med = [np.median(mc_sim[k]) for k in range(0,len(y_pred))]\n",
    "mc_sim_lwr = [np.quantile(mc_sim[k],0.05) for k in range(0,len(y_pred))]\n",
    "mc_sim_upr = [np.quantile(mc_sim[k],0.95) for k in range(0,len(y_pred))]"
   ]
  },
  {
   "cell_type": "code",
   "execution_count": 30,
   "metadata": {},
   "outputs": [],
   "source": [
    "sim = mc_sim[0]\n",
    "for k in range(1,len(y_pred)):\n",
    "    sim = np.vstack((sim, mc_sim[k]))"
   ]
  },
  {
   "cell_type": "code",
   "execution_count": 31,
   "metadata": {},
   "outputs": [],
   "source": [
    "dates = [getDate(t) for t in range(0,2062)]\n",
    "dates_pred = [getDate(t) for t in range(2061,2061+N)]"
   ]
  },
  {
   "cell_type": "code",
   "execution_count": 32,
   "metadata": {},
   "outputs": [
    {
     "data": {
      "image/png": "[encoded data removed]",
      "text/plain": [
       "<Figure size 864x360 with 1 Axes>"
      ]
     },
     "metadata": {
      "needs_background": "light"
     },
     "output_type": "display_data"
    }
   ],
   "source": [
    "x = np.array(range(1,len(y)+1))\n",
    "x_pred = np.array(range(2061,2061+N))\n",
    "\n",
    "fig = plt.figure(figsize=(12,5))\n",
    "ax = fig.gca()\n",
    "plt.plot(dates, y, label=\"Raw (y)\")\n",
    "plt.plot(dates, y_hat, color='blue', label=\"y_hat\")\n",
    "plt.fill_between(dates, y_hat_lwr, y_hat_upr, alpha=0.3, color='lightblue')\n",
    "\n",
    "plt.plot(dates_pred, y_pred, color='purple', linestyle='dashed', label=\"y_pred\")\n",
    "plt.fill_between(dates_pred, y_pred_lwr, y_pred_upr, alpha=0.3, color='lightblue')\n",
    "plt.title(\"Daily TX Fee in Ether\", fontsize=20)\n",
    "plt.xlabel(\"Date\", fontsize=14)\n",
    "plt.ylabel(\"Log(ETH)\", fontsize=14)\n",
    "plt.ylim(-1,12)\n",
    "plt.legend();\n",
    "fig.savefig('../img/eth_daily_tx_fee.png')"
   ]
  },
  {
   "cell_type": "code",
   "execution_count": 33,
   "metadata": {},
   "outputs": [
    {
     "data": {
      "image/png": "[encoded data removed]",
      "text/plain": [
       "<Figure size 864x360 with 1 Axes>"
      ]
     },
     "metadata": {
      "needs_background": "light"
     },
     "output_type": "display_data"
    }
   ],
   "source": [
    "x = np.array(range(1,len(y)+1))\n",
    "x_pred = np.array(range(2061,2061+N))\n",
    "\n",
    "fig = plt.figure(figsize=(12,5))\n",
    "plt.plot(dates, np.exp(y), label=\"Raw (y)\")\n",
    "plt.plot(dates, np.exp(y_hat), color='blue', label=\"y_hat\")\n",
    "plt.fill_between(dates, np.exp(y_hat_lwr), np.exp(y_hat_upr), alpha=0.3, color='lightblue')\n",
    "\n",
    "#plt.plot(dates_pred, np.exp(y_pred), color='blue', linestyle='dashed', label=\"y_pred\")\n",
    "#plt.fill_between(dates_pred, np.exp(y_pred_lwr), np.exp(y_pred_upr), alpha=0.3, color='lightblue')\n",
    "plt.title(\"Daily TX Fee in Ether\", fontsize=20)\n",
    "fig.savefig('../img/eth_daily_tx_fee2.png')\n",
    "plt.legend();"
   ]
  },
  {
   "cell_type": "code",
   "execution_count": 34,
   "metadata": {},
   "outputs": [],
   "source": [
    "dates_ = np.append(dates, dates_pred[1:])\n",
    "y_hat_ = np.append(y_hat, y_pred[1:])\n",
    "y_hat_lwr_ = np.append(y_hat_lwr, y_pred_lwr[1:])\n",
    "y_pred_upr_ = np.append(y_hat_upr, y_pred_upr[1:])\n",
    "\n",
    "est_df = pd.DataFrame({'dates':dates_,\n",
    "                        'pred':np.cumsum(np.exp(y_hat_)),\n",
    "                        'pred_lwr':np.cumsum(np.exp(y_hat_lwr_)),\n",
    "                        'pred_upr':np.cumsum(np.exp(y_pred_upr_))})\n",
    "\n",
    "est_df = est_df.iloc[0:len(nevm_df)]"
   ]
  },
  {
   "cell_type": "code",
   "execution_count": 35,
   "metadata": {},
   "outputs": [
    {
     "data": {
      "text/plain": [
       "Text(0.5, 24.0, 'Date')"
      ]
     },
     "execution_count": 35,
     "metadata": {},
     "output_type": "execute_result"
    },
    {
     "data": {
      "image/png": "[encoded data removed]",
      "text/plain": [
       "<Figure size 864x360 with 1 Axes>"
      ]
     },
     "metadata": {
      "needs_background": "light"
     },
     "output_type": "display_data"
    }
   ],
   "source": [
    "addition_supply = 100000000\n",
    "\n",
    "coin_supply_upr = addition_supply + nevm_df['supply_upr'].values - est_df['pred_lwr'].values\n",
    "coin_supply_lwr = addition_supply + nevm_df['supply_lwr'].values - est_df['pred_upr'].values\n",
    "\n",
    "\n",
    "sys_dates = nevm_med['dates'].values\n",
    "sys_supply =  addition_supply+nevm_med['supply'].values\n",
    "\n",
    "fig = plt.figure(figsize=(12,5))\n",
    "plt.plot(sys_dates, sys_supply, color='green', linestyle='dashed', label=\"y_pred\")\n",
    "plt.fill_between(nevm_med['dates'].values, coin_supply_lwr, coin_supply_upr, alpha=0.3, color='lightblue')\n",
    "plt.title(\"Syscoin Supply (uses ETH Daily TX Fees)\", fontsize=20)\n",
    "fig.savefig('../img/syscoin_daily_supply.png')\n",
    "plt.ylabel(\"SYS Supply\", fontsize=14)\n",
    "plt.xlabel(\"Date\", fontsize=14)"
   ]
  },
  {
   "cell_type": "code",
   "execution_count": 36,
   "metadata": {},
   "outputs": [
    {
     "data": {
      "text/plain": [
       "Text(0.5, 24.0, 'Date')"
      ]
     },
     "execution_count": 36,
     "metadata": {},
     "output_type": "execute_result"
    },
    {
     "data": {
      "image/png": "[encoded data removed]",
      "text/plain": [
       "<Figure size 864x360 with 1 Axes>"
      ]
     },
     "metadata": {
      "needs_background": "light"
     },
     "output_type": "display_data"
    }
   ],
   "source": [
    "coin_supply_upr = nevm_df['supply_upr'].values - est_df['pred_lwr'].values\n",
    "coin_supply_lwr = nevm_df['supply_lwr'].values - est_df['pred_upr'].values\n",
    "\n",
    "fig = plt.figure(figsize=(12,5))\n",
    "plt.plot(nevm_med['dates'].values, nevm_med['supply'].values, color='green', linestyle='dashed', label=\"y_pred\")\n",
    "plt.plot(pow_df['dates'].values, pow_df['supply'].values, color='blue', linestyle='dashed', label=\"y_pred\")\n",
    "plt.fill_between(nevm_med['dates'].values, coin_supply_lwr, coin_supply_upr, alpha=0.3, color='lightblue')\n",
    "plt.title(\"Syscoin Supply (uses ETH Daily TX Fees)\", fontsize=20)\n",
    "fig.savefig('../img/syscoin_daily_supply.png')\n",
    "plt.ylabel(\"SYS Supply\", fontsize=14)\n",
    "plt.xlabel(\"Date\", fontsize=14)"
   ]
  },
  {
   "cell_type": "code",
   "execution_count": 1,
   "metadata": {},
   "outputs": [
    {
     "ename": "NameError",
     "evalue": "name 'pred_df' is not defined",
     "output_type": "error",
     "traceback": [
      "\u001b[0;31m---------------------------------------------------------------------------\u001b[0m",
      "\u001b[0;31mNameError\u001b[0m                                 Traceback (most recent call last)",
      "\u001b[0;32m/var/folders/97/wcmz4r710pj20v_3cnvl09cm0000gn/T/ipykernel_13621/158947453.py\u001b[0m in \u001b[0;36m<module>\u001b[0;34m\u001b[0m\n\u001b[0;32m----> 1\u001b[0;31m \u001b[0mpred_df\u001b[0m\u001b[0;34m\u001b[0m\u001b[0;34m\u001b[0m\u001b[0m\n\u001b[0m",
      "\u001b[0;31mNameError\u001b[0m: name 'pred_df' is not defined"
     ]
    }
   ],
   "source": [
    "pred_df"
   ]
  },
  {
   "cell_type": "code",
   "execution_count": 37,
   "metadata": {},
   "outputs": [],
   "source": [
    "pred_df = pd.DataFrame({'dates': nevm_med['dates'].values,\n",
    "                        'pred':addition_supply + nevm_med['supply'].values,\n",
    "                        'pred_lwr':addition_supply + coin_supply_lwr,\n",
    "                        'pred_upr':addition_supply + coin_supply_upr})"
   ]
  },
  {
   "cell_type": "code",
   "execution_count": 38,
   "metadata": {},
   "outputs": [
    {
     "data": {
      "text/html": [
       "<div>\n",
       "<style scoped>\n",
       "    .dataframe tbody tr th:only-of-type {\n",
       "        vertical-align: middle;\n",
       "    }\n",
       "\n",
       "    .dataframe tbody tr th {\n",
       "        vertical-align: top;\n",
       "    }\n",
       "\n",
       "    .dataframe thead th {\n",
       "        text-align: right;\n",
       "    }\n",
       "</style>\n",
       "<table border=\"1\" class=\"dataframe\">\n",
       "  <thead>\n",
       "    <tr style=\"text-align: right;\">\n",
       "      <th></th>\n",
       "      <th>dates</th>\n",
       "      <th>pred</th>\n",
       "      <th>pred_lwr</th>\n",
       "      <th>pred_upr</th>\n",
       "    </tr>\n",
       "  </thead>\n",
       "  <tbody>\n",
       "    <tr>\n",
       "      <th>26</th>\n",
       "      <td>2022-01-01</td>\n",
       "      <td>7.275692e+08</td>\n",
       "      <td>7.269098e+08</td>\n",
       "      <td>7.278218e+08</td>\n",
       "    </tr>\n",
       "    <tr>\n",
       "      <th>391</th>\n",
       "      <td>2023-01-01</td>\n",
       "      <td>7.533719e+08</td>\n",
       "      <td>7.440324e+08</td>\n",
       "      <td>7.568671e+08</td>\n",
       "    </tr>\n",
       "    <tr>\n",
       "      <th>756</th>\n",
       "      <td>2024-01-01</td>\n",
       "      <td>7.778844e+08</td>\n",
       "      <td>7.596257e+08</td>\n",
       "      <td>7.844515e+08</td>\n",
       "    </tr>\n",
       "    <tr>\n",
       "      <th>1122</th>\n",
       "      <td>2025-01-01</td>\n",
       "      <td>8.012351e+08</td>\n",
       "      <td>7.735178e+08</td>\n",
       "      <td>8.107164e+08</td>\n",
       "    </tr>\n",
       "    <tr>\n",
       "      <th>1487</th>\n",
       "      <td>2026-01-01</td>\n",
       "      <td>8.233577e+08</td>\n",
       "      <td>7.854865e+08</td>\n",
       "      <td>8.355848e+08</td>\n",
       "    </tr>\n",
       "    <tr>\n",
       "      <th>1852</th>\n",
       "      <td>2027-01-01</td>\n",
       "      <td>8.443742e+08</td>\n",
       "      <td>7.954543e+08</td>\n",
       "      <td>8.591921e+08</td>\n",
       "    </tr>\n",
       "    <tr>\n",
       "      <th>2217</th>\n",
       "      <td>2028-01-01</td>\n",
       "      <td>8.643398e+08</td>\n",
       "      <td>8.032679e+08</td>\n",
       "      <td>8.815996e+08</td>\n",
       "    </tr>\n",
       "    <tr>\n",
       "      <th>2583</th>\n",
       "      <td>2029-01-01</td>\n",
       "      <td>8.833591e+08</td>\n",
       "      <td>8.088115e+08</td>\n",
       "      <td>9.029236e+08</td>\n",
       "    </tr>\n",
       "    <tr>\n",
       "      <th>2948</th>\n",
       "      <td>2030-01-01</td>\n",
       "      <td>9.013781e+08</td>\n",
       "      <td>8.120381e+08</td>\n",
       "      <td>9.231016e+08</td>\n",
       "    </tr>\n",
       "    <tr>\n",
       "      <th>3313</th>\n",
       "      <td>2031-01-01</td>\n",
       "      <td>9.184962e+08</td>\n",
       "      <td>8.128912e+08</td>\n",
       "      <td>9.422440e+08</td>\n",
       "    </tr>\n",
       "    <tr>\n",
       "      <th>3678</th>\n",
       "      <td>2032-01-01</td>\n",
       "      <td>9.347583e+08</td>\n",
       "      <td>8.113021e+08</td>\n",
       "      <td>9.604003e+08</td>\n",
       "    </tr>\n",
       "    <tr>\n",
       "      <th>4044</th>\n",
       "      <td>2033-01-01</td>\n",
       "      <td>9.502496e+08</td>\n",
       "      <td>8.071926e+08</td>\n",
       "      <td>9.776648e+08</td>\n",
       "    </tr>\n",
       "  </tbody>\n",
       "</table>\n",
       "</div>"
      ],
      "text/plain": [
       "          dates          pred      pred_lwr      pred_upr\n",
       "26   2022-01-01  7.275692e+08  7.269098e+08  7.278218e+08\n",
       "391  2023-01-01  7.533719e+08  7.440324e+08  7.568671e+08\n",
       "756  2024-01-01  7.778844e+08  7.596257e+08  7.844515e+08\n",
       "1122 2025-01-01  8.012351e+08  7.735178e+08  8.107164e+08\n",
       "1487 2026-01-01  8.233577e+08  7.854865e+08  8.355848e+08\n",
       "1852 2027-01-01  8.443742e+08  7.954543e+08  8.591921e+08\n",
       "2217 2028-01-01  8.643398e+08  8.032679e+08  8.815996e+08\n",
       "2583 2029-01-01  8.833591e+08  8.088115e+08  9.029236e+08\n",
       "2948 2030-01-01  9.013781e+08  8.120381e+08  9.231016e+08\n",
       "3313 2031-01-01  9.184962e+08  8.128912e+08  9.422440e+08\n",
       "3678 2032-01-01  9.347583e+08  8.113021e+08  9.604003e+08\n",
       "4044 2033-01-01  9.502496e+08  8.071926e+08  9.776648e+08"
      ]
     },
     "execution_count": 38,
     "metadata": {},
     "output_type": "execute_result"
    }
   ],
   "source": [
    "mo = pd.to_datetime(pred_df['dates'].values).month\n",
    "da = pd.to_datetime(pred_df['dates'].values).day\n",
    "\n",
    "indices = []\n",
    "m = 0\n",
    "for k in range(0,len(pred_df)):\n",
    "    if((mo[k] == 1) & (da[k] == 1)): indices.append(k)\n",
    "    \n",
    "pred_df.iloc[indices]"
   ]
  }
 ],
 "metadata": {
  "kernelspec": {
   "display_name": "Python 3 (ipykernel)",
   "language": "python",
   "name": "python3"
  },
  "language_info": {
   "codemirror_mode": {
    "name": "ipython",
    "version": 3
   },
   "file_extension": ".py",
   "mimetype": "text/x-python",
   "name": "python",
   "nbconvert_exporter": "python",
   "pygments_lexer": "ipython3",
   "version": "3.9.7"
  }
 },
 "nbformat": 4,
 "nbformat_minor": 4
}
